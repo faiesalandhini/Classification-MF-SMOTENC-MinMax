{
  "nbformat": 4,
  "nbformat_minor": 0,
  "metadata": {
    "colab": {
      "provenance": [],
      "toc_visible": true
    },
    "kernelspec": {
      "name": "python3",
      "display_name": "Python 3"
    },
    "language_info": {
      "name": "python"
    }
  },
  "cells": [
    {
      "cell_type": "markdown",
      "source": [
        "# Install & Import"
      ],
      "metadata": {
        "id": "3QyduHACht8A"
      }
    },
    {
      "cell_type": "code",
      "source": [
        "!pip install -U scikit-learn\n",
        "!pip install ppca\n",
        "!pip install klib"
      ],
      "metadata": {
        "colab": {
          "base_uri": "https://localhost:8080/"
        },
        "id": "mkPyBvg-BdSc",
        "outputId": "1804c7e1-2149-44f9-f8ce-21dc90ba4d76"
      },
      "execution_count": 1,
      "outputs": [
        {
          "output_type": "stream",
          "name": "stdout",
          "text": [
            "Looking in indexes: https://pypi.org/simple, https://us-python.pkg.dev/colab-wheels/public/simple/\n",
            "Requirement already satisfied: scikit-learn in /usr/local/lib/python3.10/dist-packages (1.2.2)\n",
            "Requirement already satisfied: numpy>=1.17.3 in /usr/local/lib/python3.10/dist-packages (from scikit-learn) (1.22.4)\n",
            "Requirement already satisfied: scipy>=1.3.2 in /usr/local/lib/python3.10/dist-packages (from scikit-learn) (1.10.1)\n",
            "Requirement already satisfied: joblib>=1.1.1 in /usr/local/lib/python3.10/dist-packages (from scikit-learn) (1.2.0)\n",
            "Requirement already satisfied: threadpoolctl>=2.0.0 in /usr/local/lib/python3.10/dist-packages (from scikit-learn) (3.1.0)\n",
            "Looking in indexes: https://pypi.org/simple, https://us-python.pkg.dev/colab-wheels/public/simple/\n",
            "Collecting ppca\n",
            "  Downloading ppca-0.0.4-py3-none-any.whl (6.7 kB)\n",
            "Requirement already satisfied: numpy in /usr/local/lib/python3.10/dist-packages (from ppca) (1.22.4)\n",
            "Requirement already satisfied: scipy in /usr/local/lib/python3.10/dist-packages (from ppca) (1.10.1)\n",
            "Installing collected packages: ppca\n",
            "Successfully installed ppca-0.0.4\n",
            "Looking in indexes: https://pypi.org/simple, https://us-python.pkg.dev/colab-wheels/public/simple/\n",
            "Collecting klib\n",
            "  Downloading klib-1.0.7-py3-none-any.whl (20 kB)\n",
            "Requirement already satisfied: Jinja2<4.0.0,>=3.0.3 in /usr/local/lib/python3.10/dist-packages (from klib) (3.1.2)\n",
            "Requirement already satisfied: matplotlib<4.0.0,>=3.0.3 in /usr/local/lib/python3.10/dist-packages (from klib) (3.7.1)\n",
            "Requirement already satisfied: numpy<2.0.0,>=1.16.3 in /usr/local/lib/python3.10/dist-packages (from klib) (1.22.4)\n",
            "Requirement already satisfied: pandas<2.0.0,>=1.2.0 in /usr/local/lib/python3.10/dist-packages (from klib) (1.5.3)\n",
            "Requirement already satisfied: scipy<2.0.0,>=1.1.0 in /usr/local/lib/python3.10/dist-packages (from klib) (1.10.1)\n",
            "Requirement already satisfied: seaborn<0.13.0,>=0.11.2 in /usr/local/lib/python3.10/dist-packages (from klib) (0.12.2)\n",
            "Requirement already satisfied: MarkupSafe>=2.0 in /usr/local/lib/python3.10/dist-packages (from Jinja2<4.0.0,>=3.0.3->klib) (2.1.2)\n",
            "Requirement already satisfied: contourpy>=1.0.1 in /usr/local/lib/python3.10/dist-packages (from matplotlib<4.0.0,>=3.0.3->klib) (1.0.7)\n",
            "Requirement already satisfied: cycler>=0.10 in /usr/local/lib/python3.10/dist-packages (from matplotlib<4.0.0,>=3.0.3->klib) (0.11.0)\n",
            "Requirement already satisfied: fonttools>=4.22.0 in /usr/local/lib/python3.10/dist-packages (from matplotlib<4.0.0,>=3.0.3->klib) (4.39.3)\n",
            "Requirement already satisfied: kiwisolver>=1.0.1 in /usr/local/lib/python3.10/dist-packages (from matplotlib<4.0.0,>=3.0.3->klib) (1.4.4)\n",
            "Requirement already satisfied: packaging>=20.0 in /usr/local/lib/python3.10/dist-packages (from matplotlib<4.0.0,>=3.0.3->klib) (23.1)\n",
            "Requirement already satisfied: pillow>=6.2.0 in /usr/local/lib/python3.10/dist-packages (from matplotlib<4.0.0,>=3.0.3->klib) (8.4.0)\n",
            "Requirement already satisfied: pyparsing>=2.3.1 in /usr/local/lib/python3.10/dist-packages (from matplotlib<4.0.0,>=3.0.3->klib) (3.0.9)\n",
            "Requirement already satisfied: python-dateutil>=2.7 in /usr/local/lib/python3.10/dist-packages (from matplotlib<4.0.0,>=3.0.3->klib) (2.8.2)\n",
            "Requirement already satisfied: pytz>=2020.1 in /usr/local/lib/python3.10/dist-packages (from pandas<2.0.0,>=1.2.0->klib) (2022.7.1)\n",
            "Requirement already satisfied: six>=1.5 in /usr/local/lib/python3.10/dist-packages (from python-dateutil>=2.7->matplotlib<4.0.0,>=3.0.3->klib) (1.16.0)\n",
            "Installing collected packages: klib\n",
            "Successfully installed klib-1.0.7\n"
          ]
        }
      ]
    },
    {
      "cell_type": "code",
      "source": [
        "import numpy as np\n",
        "import pandas as pd\n",
        "import matplotlib.pyplot as plt\n",
        "import klib\n",
        "\n",
        "from sklearn.naive_bayes import GaussianNB\n",
        "from sklearn.model_selection import train_test_split\n",
        "from ppca import PPCA\n",
        "from sklearn.preprocessing import StandardScaler\n",
        "from imblearn.over_sampling import SMOTE\n",
        "from sklearn import metrics\n",
        "from sklearn.metrics import auc, roc_auc_score, accuracy_score\n",
        "\n",
        "from sklearn.ensemble import RandomForestClassifier\n",
        "from sklearn.cluster import KMeans\n",
        "from imblearn.under_sampling import ClusterCentroids\n",
        "\n",
        "import warnings\n",
        "import sys\n",
        "\n",
        "warnings.filterwarnings('ignore')"
      ],
      "metadata": {
        "id": "N3_OjUERh4zl"
      },
      "execution_count": 2,
      "outputs": []
    },
    {
      "cell_type": "code",
      "source": [],
      "metadata": {
        "id": "P5fLTQhSiQfe"
      },
      "execution_count": null,
      "outputs": []
    },
    {
      "cell_type": "markdown",
      "source": [
        "# Skenario 1: Klasifikasi + Normalisasi + Balancing Data"
      ],
      "metadata": {
        "id": "z7zH08WpzCGf"
      }
    },
    {
      "cell_type": "markdown",
      "source": [
        "## KODE 1 NB + SCUT"
      ],
      "metadata": {
        "id": "0LAjshbBzIpA"
      }
    },
    {
      "cell_type": "code",
      "source": [
        "# Membaca dataset dari file Excel\n",
        "dataset = pd.read_excel('dataset_hepatitis.xlsx')\n",
        "\n",
        "# Mengganti nilai ? dengan Nan\n",
        "data = dataset.replace('?', np.nan)\n",
        "\n",
        "# Mnghaus baris missing value\n",
        "df = data.dropna()\n",
        "df.to_excel('hasil_dropna.xlsx', index=False)\n",
        "\n",
        "# Pisahkan atribut (x) dan target (y)\n",
        "x = df.drop('class', axis=1)\n",
        "y = df['class']\n",
        "\n",
        "# Normalisasi dengan Standard Scaler\n",
        "scaler = StandardScaler()\n",
        "x_sc = pd.DataFrame(scaler.fit_transform(x.values), columns=x.columns)\n",
        "\n",
        "# Membuat DataFrame dari hasil Standard Scaler\n",
        "df_sc = pd.DataFrame(x_sc.values, columns=x_sc.columns)\n",
        "df_sc['class'] = y\n",
        "df_sc.to_excel('hasil_scaling.xlsx', index=False)\n",
        "\n",
        "# Implementasi SCUT\n",
        "class SCUT:\n",
        "    def __init__(self, n_clusters=2):\n",
        "        self.n_clusters = n_clusters\n",
        "        self.cluster_centroids = ClusterCentroids(random_state=0)\n",
        "\n",
        "    def fit_resample(self, x_sc, y):\n",
        "        kmeans = KMeans(n_clusters=self.n_clusters, random_state=0)\n",
        "        cluster_labels = kmeans.fit_predict(x_sc, y)\n",
        "        majority_cluster = np.argmax(np.bincount(cluster_labels))\n",
        "        majority_samples = cluster_labels == majority_cluster\n",
        "        X_majority = x_sc[majority_samples]\n",
        "        y_majority = y[majority_samples]\n",
        "        X_resampled, y_resampled = self.cluster_centroids.fit_resample(x_sc, y)\n",
        "        X_resampled = np.concatenate([X_resampled, X_majority])\n",
        "        y_resampled = np.concatenate([y_resampled, y_majority])\n",
        "        return X_resampled, y_resampled\n",
        "\n",
        "# Perform SCUT to balance classes\n",
        "scut = SCUT(n_clusters=2)\n",
        "x_res, y_res = scut.fit_resample(x_sc, y)\n",
        "\n",
        "# Membuat DataFrame dari hasil SCUT\n",
        "df_scut = pd.DataFrame(x_res, columns=x_sc.columns)\n",
        "df_scut['class'] = y_res\n",
        "df_scut.to_excel('hasil_scut.xlsx', index=False)\n",
        "\n",
        "# Import fungsi split data dengan train_test_split \n",
        "x_train, x_test, y_train, y_test = train_test_split(x_res, y_res, stratify=y_res, test_size=0.3, random_state=0)\n",
        "\n",
        "# Memanggil fungsi klasifikasi Naive bayes\n",
        "gnb = GaussianNB()\n",
        "\n",
        "# Memasukkan data training pada fungsi klasifikasi naive bayes\n",
        "y_pred = gnb.fit(x_train, y_train).predict(x_test)\n",
        "\n",
        "# Menampilkan nilai akurasi dari klasifikasi naive bayes\n",
        "print('Nilai akurasi komposisi 70:30 adalah {:.2f}%'.format(metrics.accuracy_score(y_test, y_pred)*100))"
      ],
      "metadata": {
        "colab": {
          "base_uri": "https://localhost:8080/"
        },
        "id": "T3dYrdCZzIBH",
        "outputId": "637b2aac-f7c6-4fcf-fee8-296d8af60e4e"
      },
      "execution_count": 5,
      "outputs": [
        {
          "output_type": "stream",
          "name": "stdout",
          "text": [
            "Nilai akurasi komposisi 70:30 adalah 92.00%\n"
          ]
        }
      ]
    },
    {
      "cell_type": "markdown",
      "source": [
        "## KODE 2 RF + SCUT"
      ],
      "metadata": {
        "id": "adrbSHYv1X_g"
      }
    },
    {
      "cell_type": "code",
      "source": [
        "# Membaca dataset dari file Excel\n",
        "dataset = pd.read_excel('dataset_hepatitis.xlsx')\n",
        "\n",
        "# Mengganti nilai ? dengan Nan\n",
        "data = dataset.replace('?', np.nan)\n",
        "\n",
        "# Mnghaus baris missing value\n",
        "df = data.dropna()\n",
        "df.to_excel('hasil_dropna.xlsx', index=False)\n",
        "\n",
        "# Pisahkan atribut (x) dan target (y)\n",
        "x = df.drop('class', axis=1)\n",
        "y = df['class']\n",
        "\n",
        "# Normalisasi dengan Standard Scaler\n",
        "scaler = StandardScaler()\n",
        "x_sc = pd.DataFrame(scaler.fit_transform(x.values), columns=x.columns)\n",
        "\n",
        "# Membuat DataFrame dari hasil Standard Scaler\n",
        "df_sc = pd.DataFrame(x_sc.values, columns=x_sc.columns)\n",
        "df_sc['class'] = y\n",
        "df_sc.to_excel('hasil_scaling.xlsx', index=False)\n",
        "\n",
        "# Implementasi SCUT\n",
        "class SCUT:\n",
        "    def __init__(self, n_clusters=2):\n",
        "        self.n_clusters = n_clusters\n",
        "        self.cluster_centroids = ClusterCentroids(random_state=0)\n",
        "\n",
        "    def fit_resample(self, X, y):\n",
        "        kmeans = KMeans(n_clusters=self.n_clusters, random_state=0)\n",
        "        cluster_labels = kmeans.fit_predict(X, y)\n",
        "        majority_cluster = np.argmax(np.bincount(cluster_labels))\n",
        "        majority_samples = cluster_labels == majority_cluster\n",
        "        X_majority = X[majority_samples]\n",
        "        y_majority = y[majority_samples]\n",
        "        X_resampled, y_resampled = self.cluster_centroids.fit_resample(X, y)\n",
        "        X_resampled = np.concatenate([X_resampled, X_majority])\n",
        "        y_resampled = np.concatenate([y_resampled, y_majority])\n",
        "        return X_resampled, y_resampled\n",
        "\n",
        "# Perform SCUT to balance classes\n",
        "scut = SCUT(n_clusters=2)\n",
        "x_res, y_res = scut.fit_resample(x_sc, y)\n",
        "\n",
        "# Membuat DataFrame dari hasil SCUT\n",
        "df_scut = pd.DataFrame(x_res, columns=x_sc.columns)\n",
        "df_scut['class'] = y_res\n",
        "df_scut.to_excel('hasil_scut.xlsx', index=False)\n",
        "\n",
        "# Import fungsi split data dengan train_test_split \n",
        "x_train, x_test, y_train, y_test = train_test_split(x_res, y_res, stratify=y_res, test_size=0.3, random_state=0)\n",
        "\n",
        "from sklearn.ensemble import RandomForestClassifier\n",
        "rf = RandomForestClassifier(random_state=0,\n",
        "                            class_weight='balanced',\n",
        "                            n_estimators=100)\n",
        "\n",
        "# Memasukkan data training pada fungsi klasifikasi naive bayes\n",
        "y_pred = rf.fit(x_train, y_train).predict(x_test)\n",
        "\n",
        "# Menampilkan nilai akurasi dari klasifikasi naive bayes\n",
        "print('Nilai akurasi komposisi 70:30 adalah {:.2f}%'.format(metrics.accuracy_score(y_test, y_pred)*100))"
      ],
      "metadata": {
        "colab": {
          "base_uri": "https://localhost:8080/"
        },
        "id": "YLbENb7s1XVY",
        "outputId": "359ef224-8975-43b5-dd95-dfa3a94c2bb3"
      },
      "execution_count": 6,
      "outputs": [
        {
          "output_type": "stream",
          "name": "stdout",
          "text": [
            "Nilai akurasi komposisi 70:30 adalah 92.00%\n"
          ]
        }
      ]
    },
    {
      "cell_type": "markdown",
      "source": [
        "## KODE 3 NB + SMOTENC"
      ],
      "metadata": {
        "id": "KriqvEcS23Kv"
      }
    },
    {
      "cell_type": "code",
      "source": [
        "# Membaca dataset dari file Excel\n",
        "dataset = pd.read_excel('dataset_hepatitis.xlsx')\n",
        "\n",
        "# Mengganti nilai ? dengan Nan\n",
        "data = dataset.replace('?', np.nan)\n",
        "\n",
        "# Mnghaus baris missing value\n",
        "df = data.dropna()\n",
        "df.to_excel('hasil_dropna.xlsx', index=False)\n",
        "\n",
        "# Pisahkan atribut (x) dan target (y)\n",
        "x = df.drop('class', axis=1)\n",
        "y = df['class']\n",
        "\n",
        "# Normalisasi dengan Standard Scaler\n",
        "scaler = StandardScaler()\n",
        "x_sc = pd.DataFrame(scaler.fit_transform(x.values), columns=x.columns)\n",
        "\n",
        "# Membuat DataFrame dari hasil Standard Scaler\n",
        "df_sc = pd.DataFrame(x_sc.values, columns=x_sc.columns)\n",
        "df_sc['class'] = y\n",
        "df_sc.to_excel('hasil_scaling.xlsx', index=False)\n",
        "\n",
        "from imblearn.over_sampling import SMOTENC\n",
        "# Perform SMOTEN to balance classes\n",
        "sm = SMOTENC(categorical_features = [0,1,2,3,4,5,6,7,8,9,10,11,12],\n",
        "             k_neighbors = 5,\n",
        "             random_state = 0,\n",
        "             sampling_strategy = 'minority')\n",
        "x_res, y_res = sm.fit_resample(x_sc, y)\n",
        "\n",
        "# Membuat DataFrame dari hasil SMOTE\n",
        "df_smote = pd.DataFrame(x_res, columns=x_sc.columns)\n",
        "df_smote['class'] = y_res\n",
        "df_smote.to_excel('hasil_smote.xlsx', index=False)\n",
        "\n",
        "# Import fungsi split data dengan train_test_split \n",
        "x_train, x_test, y_train, y_test = train_test_split(x_res, y_res, stratify=y_res, test_size=0.3, random_state=0)\n",
        "\n",
        "# Memanggil fungsi klasifikasi Naive bayes\n",
        "gnb = GaussianNB()\n",
        "\n",
        "# Memasukkan data training pada fungsi klasifikasi naive bayes\n",
        "y_pred = gnb.fit(x_train, y_train).predict(x_test)\n",
        "\n",
        "# Menampilkan nilai akurasi dari klasifikasi naive bayes\n",
        "print('Nilai akurasi komposisi 70:30 adalah {:.2f}%'.format(metrics.accuracy_score(y_test, y_pred)*100))"
      ],
      "metadata": {
        "colab": {
          "base_uri": "https://localhost:8080/"
        },
        "id": "TKwjvrj_26XA",
        "outputId": "2391141e-0b3b-4de9-ad7f-83ddb08dde67"
      },
      "execution_count": 7,
      "outputs": [
        {
          "output_type": "stream",
          "name": "stdout",
          "text": [
            "Nilai akurasi komposisi 70:30 adalah 100.00%\n"
          ]
        }
      ]
    },
    {
      "cell_type": "markdown",
      "source": [
        "### RMSE"
      ],
      "metadata": {
        "id": "xKrqxK0aT-DG"
      }
    },
    {
      "cell_type": "code",
      "source": [
        "from sklearn.metrics import mean_squared_error\n",
        "\n",
        "# Menghitung RMSE untuk setiap klasifikasi\n",
        "rmse = np.sqrt(mean_squared_error(y_test, y_pred))\n",
        "\n",
        "# Menampilkan nilai RMSE\n",
        "print('Nilai RMSE komposisi 70:30 adalah {:.2f}'.format(rmse))"
      ],
      "metadata": {
        "colab": {
          "base_uri": "https://localhost:8080/"
        },
        "id": "SqG1oldEUAoM",
        "outputId": "70a2d9f2-2e01-4a70-f69d-801c7f07ced7"
      },
      "execution_count": 8,
      "outputs": [
        {
          "output_type": "stream",
          "name": "stdout",
          "text": [
            "Nilai RMSE komposisi 70:30 adalah 0.00\n"
          ]
        }
      ]
    },
    {
      "cell_type": "markdown",
      "source": [
        "### Confusion Matrix"
      ],
      "metadata": {
        "id": "S1LfpO44URHI"
      }
    },
    {
      "cell_type": "code",
      "source": [
        "disp = metrics.ConfusionMatrixDisplay(metrics.confusion_matrix\n",
        "                                        (y_test, y_pred), \n",
        "                                        display_labels=gnb.classes_)\n",
        "disp.plot()\n",
        "plt.title('Confusion Matrix NB 70:30')\n",
        "plt.show()\n",
        "print()"
      ],
      "metadata": {
        "colab": {
          "base_uri": "https://localhost:8080/",
          "height": 490
        },
        "id": "w7njqoExUTR7",
        "outputId": "e82b07ae-332b-49e9-8416-db102147247c"
      },
      "execution_count": 9,
      "outputs": [
        {
          "output_type": "display_data",
          "data": {
            "text/plain": [
              "<Figure size 640x480 with 2 Axes>"
            ],
            "image/png": "[encoded data removed]"
          },
          "metadata": {}
        },
        {
          "output_type": "stream",
          "name": "stdout",
          "text": [
            "\n"
          ]
        }
      ]
    },
    {
      "cell_type": "markdown",
      "source": [
        "### AUCROC"
      ],
      "metadata": {
        "id": "3AKzEkzmXC7e"
      }
    },
    {
      "cell_type": "code",
      "source": [
        "#plot ROC curve dengan matplotlib.pyplot\n",
        "from sklearn.metrics import auc\n",
        "\n",
        "y_dec = gnb.fit(x_train, y_train).predict_proba(x_test)[:, 1]\n",
        "\n",
        "fpr, tpr, thresholds = metrics.roc_curve(y_test, y_dec, pos_label=2)\n",
        "\n",
        "plt.plot(fpr, tpr, marker='.', label=\"NB 70:30 (AUCROC ={:.3f})\".format(auc(fpr, tpr)))\n",
        "\n",
        "plt.title('ROC Plot Naive Bayes')\n",
        "plt.xlabel('False Positive Rate')\n",
        "plt.ylabel('True Positive Rate')\n",
        "plt.legend()\n",
        "plt.show()"
      ],
      "metadata": {
        "colab": {
          "base_uri": "https://localhost:8080/",
          "height": 472
        },
        "id": "QZSTVpJqXE84",
        "outputId": "4756be63-d629-438a-b96b-3df5c12ee3df"
      },
      "execution_count": 10,
      "outputs": [
        {
          "output_type": "display_data",
          "data": {
            "text/plain": [
              "<Figure size 640x480 with 1 Axes>"
            ],
            "image/png": "[encoded data removed]"
          },
          "metadata": {}
        }
      ]
    },
    {
      "cell_type": "markdown",
      "source": [
        "## KODE 4 RF + SMOTENC"
      ],
      "metadata": {
        "id": "pODt86ic27Lp"
      }
    },
    {
      "cell_type": "code",
      "source": [
        "# Membaca dataset dari file Excel\n",
        "dataset = pd.read_excel('dataset_hepatitis.xlsx')\n",
        "\n",
        "# Mengganti nilai ? dengan Nan\n",
        "data = dataset.replace('?', np.nan)\n",
        "\n",
        "# Mnghaus baris missing value\n",
        "df = data.dropna()\n",
        "df.to_excel('hasil_dropna.xlsx', index=False)\n",
        "\n",
        "# Pisahkan atribut (x) dan target (y)\n",
        "x = df.drop('class', axis=1)\n",
        "y = df['class']\n",
        "\n",
        "# Normalisasi dengan Standard Scaler\n",
        "scaler = StandardScaler()\n",
        "x_sc = pd.DataFrame(scaler.fit_transform(x.values), columns=x.columns)\n",
        "\n",
        "# Membuat DataFrame dari hasil Standard Scaler\n",
        "df_sc = pd.DataFrame(x_sc.values, columns=x_sc.columns)\n",
        "df_sc['class'] = y\n",
        "df_sc.to_excel('hasil_scaling.xlsx', index=False)\n",
        "\n",
        "from imblearn.over_sampling import SMOTENC\n",
        "# Perform SMOTENC to balance classes\n",
        "sm = SMOTENC(categorical_features = [0,1,2,3,4,5,6,7,8,9,10,11,12],\n",
        "             k_neighbors = 5,\n",
        "             random_state = 0,\n",
        "             sampling_strategy = 'minority')\n",
        "x_res, y_res = sm.fit_resample(x_sc, y)\n",
        "\n",
        "# Membuat DataFrame dari hasil SMOTE\n",
        "df_smote = pd.DataFrame(x_res, columns=x_sc.columns)\n",
        "df_smote['class'] = y_res\n",
        "df_smote.to_excel('hasil_smote.xlsx', index=False)\n",
        "\n",
        "# Import fungsi split data dengan train_test_split \n",
        "x_train, x_test, y_train, y_test = train_test_split(x_res, y_res, stratify=y_res, test_size=0.3, random_state=0)\n",
        "\n",
        "from sklearn.ensemble import RandomForestClassifier\n",
        "rf = RandomForestClassifier(random_state=0,\n",
        "                            class_weight='balanced',\n",
        "                            n_estimators=100)\n",
        "\n",
        "# Memasukkan data training pada fungsi klasifikasi naive bayes\n",
        "y_pred = rf.fit(x_train, y_train).predict(x_test)\n",
        "\n",
        "# Menampilkan nilai akurasi dari klasifikasi naive bayes\n",
        "print('Nilai akurasi komposisi 70:30 adalah {:.2f}%'.format(metrics.accuracy_score(y_test, y_pred)*100))"
      ],
      "metadata": {
        "colab": {
          "base_uri": "https://localhost:8080/"
        },
        "id": "LpaILMYD2_Lo",
        "outputId": "27bd5854-868f-4b20-f983-29c27502f7f6"
      },
      "execution_count": 11,
      "outputs": [
        {
          "output_type": "stream",
          "name": "stdout",
          "text": [
            "Nilai akurasi komposisi 70:30 adalah 100.00%\n"
          ]
        }
      ]
    },
    {
      "cell_type": "markdown",
      "source": [
        "### RMSE"
      ],
      "metadata": {
        "id": "anlyckbkVbSj"
      }
    },
    {
      "cell_type": "code",
      "source": [
        "from sklearn.metrics import mean_squared_error\n",
        "\n",
        "# Menghitung RMSE untuk setiap klasifikasi\n",
        "rmse = np.sqrt(mean_squared_error(y_test, y_pred))\n",
        "\n",
        "# Menampilkan nilai RMSE\n",
        "print('Nilai RMSE komposisi 70:30 adalah {:.2f}'.format(rmse))"
      ],
      "metadata": {
        "colab": {
          "base_uri": "https://localhost:8080/"
        },
        "id": "R2Sb3hefVdXh",
        "outputId": "2f1c7f67-9d94-4495-ccde-24b0faf06d1d"
      },
      "execution_count": 12,
      "outputs": [
        {
          "output_type": "stream",
          "name": "stdout",
          "text": [
            "Nilai RMSE komposisi 70:30 adalah 0.00\n"
          ]
        }
      ]
    },
    {
      "cell_type": "markdown",
      "source": [
        "### Confusion Matrix"
      ],
      "metadata": {
        "id": "WGFF6Ug-Vd8m"
      }
    },
    {
      "cell_type": "code",
      "source": [
        "disp = metrics.ConfusionMatrixDisplay(metrics.confusion_matrix\n",
        "                                        (y_test, y_pred), \n",
        "                                        display_labels=rf.classes_)\n",
        "disp.plot()\n",
        "plt.title('Confusion Matrix RF 70:30')\n",
        "plt.show()\n",
        "print()"
      ],
      "metadata": {
        "colab": {
          "base_uri": "https://localhost:8080/",
          "height": 490
        },
        "id": "S1Qhr_wSVhZl",
        "outputId": "b4699fd9-4ad9-4662-9869-68a589a848de"
      },
      "execution_count": 13,
      "outputs": [
        {
          "output_type": "display_data",
          "data": {
            "text/plain": [
              "<Figure size 640x480 with 2 Axes>"
            ],
            "image/png": "[encoded data removed]"
          },
          "metadata": {}
        },
        {
          "output_type": "stream",
          "name": "stdout",
          "text": [
            "\n"
          ]
        }
      ]
    },
    {
      "cell_type": "markdown",
      "source": [
        "### AUCROC"
      ],
      "metadata": {
        "id": "2CnzppRpXjyh"
      }
    },
    {
      "cell_type": "code",
      "source": [
        "#plot ROC curve dengan matplotlib.pyplot\n",
        "from sklearn.metrics import auc\n",
        "\n",
        "y_dec = gnb.fit(x_train, y_train).predict_proba(x_test)[:, 1]\n",
        "\n",
        "fpr, tpr, thresholds = metrics.roc_curve(y_test, y_dec, pos_label=2)\n",
        "\n",
        "plt.plot(fpr, tpr, marker='.', label=\"RF 70:30 (AUCROC ={:.3f})\".format(auc(fpr, tpr)))\n",
        "\n",
        "plt.title('ROC Plot Random Forest')\n",
        "plt.xlabel('False Positive Rate')\n",
        "plt.ylabel('True Positive Rate')\n",
        "plt.legend()\n",
        "plt.show()"
      ],
      "metadata": {
        "colab": {
          "base_uri": "https://localhost:8080/",
          "height": 472
        },
        "id": "6b8N0LCWXlmR",
        "outputId": "f4ebd2cf-9cc6-4ccb-b298-f7b089cd2787"
      },
      "execution_count": 14,
      "outputs": [
        {
          "output_type": "display_data",
          "data": {
            "text/plain": [
              "<Figure size 640x480 with 1 Axes>"
            ],
            "image/png": "[encoded data removed]"
          },
          "metadata": {}
        }
      ]
    },
    {
      "cell_type": "markdown",
      "source": [
        "# Skenario 2: Klasifikasi + Imputasi + Normalisasi + Balancing Data"
      ],
      "metadata": {
        "id": "B4zDpngSN2SA"
      }
    },
    {
      "cell_type": "markdown",
      "source": [
        "## KODE 1 NB + PPCA + SCUT"
      ],
      "metadata": {
        "id": "ZbHZNYQKWCYD"
      }
    },
    {
      "cell_type": "code",
      "source": [
        "# Load dataset\n",
        "df = pd.read_excel('dataset_hepatitis.xlsx')\n",
        "\n",
        "# Split dataset into input and output variables\n",
        "x = df.drop(['class'], axis=1)\n",
        "y = df['class']\n",
        "\n",
        "x = x.replace('?', np.nan)\n",
        "\n",
        "# Menyatakan data kategorik dan numerik\n",
        "cat_cols = ['sex', 'steroid', 'antivirals', 'fatigue', 'malaise', 'anorexia',\n",
        "            'liver_big', 'liver_firm', 'spleen_palpable', 'spiders', 'ascites',\n",
        "            'varices', 'histology']\n",
        "\n",
        "num_cols = ['age', 'bilirubin', 'alk_phosphate', 'sgot', 'albumin', 'protime']\n",
        "\n",
        "# Mengisi nilai NaN dengan mode pada kolom kategorik\n",
        "for col in cat_cols:\n",
        "    x[col].fillna(x[col].mode()[0], inplace=True)\n",
        "\n",
        "# Mengisi nilai NaN dengan mean pada kolom numerik\n",
        "for col in num_cols:\n",
        "    x[col].fillna(x[col].mean(), inplace=True)\n",
        "\n",
        "x_pre = pd.concat([x[cat_cols], x[num_cols]], axis=1)\n",
        "\n",
        "# Imputasi PPCA\n",
        "imputer = PPCA()\n",
        "imputer.fit(x_pre.values)\n",
        "x_imputed = imputer.transform(x_pre.values)\n",
        "x_imputed = pd.DataFrame(x_imputed, columns=x_pre.columns)\n",
        "\n",
        "# Membuat DataFrame dari hasil imputasi PPCA\n",
        "df_imputed = pd.DataFrame(x_imputed, columns=x_imputed.columns)\n",
        "df_imputed['class'] = y\n",
        "x_imp = df_imputed.drop(['class'], axis=1)\n",
        "x_imp.to_excel('hasil_ppca.xlsx', index=False)\n",
        "\n",
        "# Normalisasi dengan Standard Scaler\n",
        "scaler = StandardScaler()\n",
        "x_sc = pd.DataFrame(scaler.fit_transform(x_imp), columns=x_imp.columns)\n",
        "\n",
        "# Membuat DataFrame dari hasil Standard Scaler\n",
        "df_sc = pd.DataFrame(x_sc, columns=x_sc.columns)\n",
        "df_sc['class'] = y\n",
        "df_sc.to_excel('hasil_scaling.xlsx', index=False)\n",
        "\n",
        "# Implementasi SCUT\n",
        "class SCUT:\n",
        "    def __init__(self, n_clusters=2):\n",
        "        self.n_clusters = n_clusters\n",
        "        self.cluster_centroids = ClusterCentroids(random_state=0)\n",
        "\n",
        "    def fit_resample(self, X, y):\n",
        "        kmeans = KMeans(n_clusters=self.n_clusters, random_state=0)\n",
        "        cluster_labels = kmeans.fit_predict(X, y)\n",
        "        majority_cluster = np.argmax(np.bincount(cluster_labels))\n",
        "        majority_samples = cluster_labels == majority_cluster\n",
        "        X_majority = X[majority_samples]\n",
        "        y_majority = y[majority_samples]\n",
        "        X_resampled, y_resampled = self.cluster_centroids.fit_resample(X, y)\n",
        "        X_resampled = np.concatenate([X_resampled, X_majority])\n",
        "        y_resampled = np.concatenate([y_resampled, y_majority])\n",
        "        return X_resampled, y_resampled\n",
        "\n",
        "# Perform SCUT to balance classes\n",
        "scut = SCUT(n_clusters=2)\n",
        "x_res, y_res = scut.fit_resample(x_sc, y)\n",
        "\n",
        "# Membuat DataFrame dari hasil SCUT\n",
        "df_scut = pd.DataFrame(x_res, columns=x_sc.columns)\n",
        "df_scut['class'] = y_res\n",
        "df_scut.to_excel('hasil_scut.xlsx', index=False)\n",
        "\n",
        "# Import fungsi split data dengan train_test_split \n",
        "x_train, x_test, y_train, y_test = train_test_split(x_res, y_res, stratify=y_res, test_size=0.3, random_state=0)\n",
        "\n",
        "# Memanggil fungsi klasifikasi Naive bayes\n",
        "gnb = GaussianNB()\n",
        "\n",
        "# Memasukkan data training pada fungsi klasifikasi naive bayes\n",
        "y_pred = gnb.fit(x_train, y_train).predict(x_test)\n",
        "\n",
        "# Menampilkan nilai akurasi dari klasifikasi naive bayes\n",
        "print('Nilai akurasi komposisi 70:30 adalah {:.2f}%'.format(metrics.accuracy_score(y_test, y_pred)*100))"
      ],
      "metadata": {
        "colab": {
          "base_uri": "https://localhost:8080/"
        },
        "id": "FuO52_iPWDwb",
        "outputId": "869ecf52-2ead-43d3-bf86-6253fa1bce8a"
      },
      "execution_count": 17,
      "outputs": [
        {
          "output_type": "stream",
          "name": "stdout",
          "text": [
            "Nilai akurasi komposisi 70:30 adalah 100.00%\n"
          ]
        }
      ]
    },
    {
      "cell_type": "markdown",
      "source": [
        "## KODE 2 RF + PPCA + SCUT "
      ],
      "metadata": {
        "id": "k_-nKV9YOxZ7"
      }
    },
    {
      "cell_type": "code",
      "source": [
        "# Load dataset\n",
        "df = pd.read_excel('dataset_hepatitis.xlsx')\n",
        "\n",
        "# Split dataset into input and output variables\n",
        "x = df.drop(['class'], axis=1)\n",
        "y = df['class']\n",
        "\n",
        "x = x.replace('?', np.nan)\n",
        "\n",
        "# Menyatakan data kategorik dan numerik\n",
        "cat_cols = ['sex', 'steroid', 'antivirals', 'fatigue', 'malaise', 'anorexia',\n",
        "            'liver_big', 'liver_firm', 'spleen_palpable', 'spiders', 'ascites',\n",
        "            'varices', 'histology']\n",
        "\n",
        "num_cols = ['age', 'bilirubin', 'alk_phosphate', 'sgot', 'albumin', 'protime']\n",
        "\n",
        "# Mengisi nilai NaN dengan mode pada kolom kategorik\n",
        "for col in cat_cols:\n",
        "    x[col].fillna(x[col].mode()[0], inplace=True)\n",
        "\n",
        "# Mengisi nilai NaN dengan mean pada kolom numerik\n",
        "for col in num_cols:\n",
        "    x[col].fillna(x[col].mean(), inplace=True)\n",
        "\n",
        "x_pre = pd.concat([x[cat_cols], x[num_cols]], axis=1)\n",
        "\n",
        "# Normalisasi dengan Standard Scaler\n",
        "scaler = StandardScaler()\n",
        "x_sc = pd.DataFrame(scaler.fit_transform(x_pre), columns=x_pre.columns)\n",
        "\n",
        "# Membuat DataFrame dari hasil Standard Scaler\n",
        "df_sc = pd.DataFrame(x_sc, columns=x_sc.columns)\n",
        "df_sc['class'] = y\n",
        "df_sc.to_excel('hasil_scaling.xlsx', index=False)\n",
        "\n",
        "# Imputasi PPCA\n",
        "imputer = PPCA()\n",
        "imputer.fit(x_sc.values)\n",
        "x_imputed = imputer.transform(x_sc.values)\n",
        "x_imputed = pd.DataFrame(x_imputed, columns=x_sc.columns)\n",
        "\n",
        "# Membuat DataFrame dari hasil imputasi PPCA\n",
        "df_imputed = pd.DataFrame(x_imputed, columns=x_imputed.columns)\n",
        "df_imputed['class'] = y\n",
        "x_imp = df_imputed.drop(['class'], axis=1)\n",
        "x_imp.to_excel('hasil_ppca.xlsx', index=False)\n",
        "\n",
        "# Implementasi SCUT\n",
        "class SCUT:\n",
        "    def __init__(self, n_clusters=2):\n",
        "        self.n_clusters = n_clusters\n",
        "        self.cluster_centroids = ClusterCentroids(random_state=0)\n",
        "\n",
        "    def fit_resample(self, X, y):\n",
        "        kmeans = KMeans(n_clusters=self.n_clusters, random_state=0)\n",
        "        cluster_labels = kmeans.fit_predict(X, y)\n",
        "        majority_cluster = np.argmax(np.bincount(cluster_labels))\n",
        "        majority_samples = cluster_labels == majority_cluster\n",
        "        X_majority = X[majority_samples]\n",
        "        y_majority = y[majority_samples]\n",
        "        X_resampled, y_resampled = self.cluster_centroids.fit_resample(X, y)\n",
        "        X_resampled = np.concatenate([X_resampled, X_majority])\n",
        "        y_resampled = np.concatenate([y_resampled, y_majority])\n",
        "        return X_resampled, y_resampled\n",
        "\n",
        "# Perform SCUT to balance classes\n",
        "scut = SCUT(n_clusters=2)\n",
        "x_res, y_res = scut.fit_resample(x_imp, y)\n",
        "\n",
        "# Membuat DataFrame dari hasil SCUT\n",
        "df_scut = pd.DataFrame(x_res, columns=x_imp.columns)\n",
        "df_scut['class'] = y_res\n",
        "df_scut.to_excel('hasil_scut.xlsx', index=False)\n",
        "\n",
        "# Import fungsi split data dengan train_test_split \n",
        "x_train, x_test, y_train, y_test = train_test_split(x_res, y_res, stratify=y_res, test_size=0.3, random_state=0)\n",
        "\n",
        "from sklearn.ensemble import RandomForestClassifier\n",
        "rf = RandomForestClassifier(random_state=0,\n",
        "                            class_weight='balanced',\n",
        "                            n_estimators=100)\n",
        "\n",
        "# Memasukkan data training pada fungsi klasifikasi naive bayes\n",
        "y_pred = rf.fit(x_train, y_train).predict(x_test)\n",
        "\n",
        "# Menampilkan nilai akurasi dari klasifikasi naive bayes\n",
        "print('Nilai akurasi komposisi 70:30 adalah {:.2f}%'.format(metrics.accuracy_score(y_test, y_pred)*100))"
      ],
      "metadata": {
        "colab": {
          "base_uri": "https://localhost:8080/"
        },
        "id": "KqDGrzMcOtjZ",
        "outputId": "acdf10b3-14a9-4bf2-9f93-2e870b9ba32f"
      },
      "execution_count": 18,
      "outputs": [
        {
          "output_type": "stream",
          "name": "stdout",
          "text": [
            "Nilai akurasi komposisi 70:30 adalah 87.76%\n"
          ]
        }
      ]
    },
    {
      "cell_type": "markdown",
      "source": [
        "## KODE 3 NB + PPCA + SMOTENC"
      ],
      "metadata": {
        "id": "oScBgpxg4bIK"
      }
    },
    {
      "cell_type": "code",
      "source": [
        "# Load dataset\n",
        "df = pd.read_excel('dataset_hepatitis.xlsx')\n",
        "\n",
        "# Split dataset into input and output variables\n",
        "x = df.drop(['class'], axis=1)\n",
        "y = df['class']\n",
        "\n",
        "x = x.replace('?', np.nan)\n",
        "\n",
        "# Menyatakan data kategorik dan numerik\n",
        "cat_cols = ['sex', 'steroid', 'antivirals', 'fatigue', 'malaise', 'anorexia',\n",
        "            'liver_big', 'liver_firm', 'spleen_palpable', 'spiders', 'ascites',\n",
        "            'varices', 'histology']\n",
        "\n",
        "num_cols = ['age', 'bilirubin', 'alk_phosphate', 'sgot', 'albumin', 'protime']\n",
        "\n",
        "# Mengisi nilai NaN dengan mode pada kolom kategorik\n",
        "for col in cat_cols:\n",
        "    x[col].fillna(x[col].mode()[0], inplace=True)\n",
        "\n",
        "# Mengisi nilai NaN dengan mean pada kolom numerik\n",
        "for col in num_cols:\n",
        "    x[col].fillna(x[col].mean(), inplace=True)\n",
        "\n",
        "x_pre = pd.concat([x[cat_cols], x[num_cols]], axis=1)\n",
        "\n",
        "# Imputasi PPCA\n",
        "imputer = PPCA()\n",
        "imputer.fit(x_pre.values)\n",
        "x_imputed = imputer.transform(x_pre.values)\n",
        "x_imputed = pd.DataFrame(x_imputed, columns=x_pre.columns)\n",
        "\n",
        "# Membuat DataFrame dari hasil imputasi PPCA\n",
        "df_imputed = pd.DataFrame(x_imputed, columns=x_imputed.columns)\n",
        "df_imputed['class'] = y\n",
        "x_imp = df_imputed.drop(['class'], axis=1)\n",
        "x_imp.to_excel('hasil_ppca.xlsx', index=False)\n",
        "\n",
        "# Normalisasi dengan Standard Scaler\n",
        "scaler = StandardScaler()\n",
        "x_sc = pd.DataFrame(scaler.fit_transform(x_imp), columns=x_imp.columns)\n",
        "\n",
        "# Membuat DataFrame dari hasil Standard Scaler\n",
        "df_sc = pd.DataFrame(x_sc, columns=x_sc.columns)\n",
        "df_sc['class'] = y\n",
        "df_sc.to_excel('hasil_scaling.xlsx', index=False)\n",
        "\n",
        "from imblearn.over_sampling import SMOTENC\n",
        "# Perform SMOTEN to balance classes\n",
        "sm = SMOTENC(categorical_features = [0,1,2,3,4,5,6,7,8,9,10,11,12],\n",
        "             k_neighbors = 5,\n",
        "             random_state = 0,\n",
        "             sampling_strategy = 'minority')\n",
        "x_res, y_res = sm.fit_resample(x_sc, y)\n",
        "\n",
        "# Membuat DataFrame dari hasil SMOTE\n",
        "df_smote = pd.DataFrame(x_res, columns=x_sc.columns)\n",
        "df_smote['class'] = y_res\n",
        "df_smote.to_excel('hasil_smote.xlsx', index=False)\n",
        "\n",
        "# Import fungsi split data dengan train_test_split \n",
        "x_train, x_test, y_train, y_test = train_test_split(x_res, y_res, stratify=y_res, test_size=0.3, random_state=0)\n",
        "\n",
        "# Memanggil fungsi klasifikasi Naive bayes\n",
        "gnb = GaussianNB()\n",
        "\n",
        "# Memasukkan data training pada fungsi klasifikasi naive bayes\n",
        "y_pred = gnb.fit(x_train, y_train).predict(x_test)\n",
        "\n",
        "# Menampilkan nilai akurasi dari klasifikasi naive bayes\n",
        "print('Nilai akurasi komposisi 70:30 adalah {:.2f}%'.format(metrics.accuracy_score(y_test, y_pred)*100))"
      ],
      "metadata": {
        "colab": {
          "base_uri": "https://localhost:8080/"
        },
        "id": "4oYnf1Mx4zXr",
        "outputId": "a21d37a2-8498-4127-c448-29c3156e036a"
      },
      "execution_count": 19,
      "outputs": [
        {
          "output_type": "stream",
          "name": "stdout",
          "text": [
            "Nilai akurasi komposisi 70:30 adalah 100.00%\n"
          ]
        }
      ]
    },
    {
      "cell_type": "markdown",
      "source": [
        "### RMSE"
      ],
      "metadata": {
        "id": "Jd4hzCHRZHRA"
      }
    },
    {
      "cell_type": "code",
      "source": [
        "from sklearn.metrics import mean_squared_error\n",
        "\n",
        "# Menghitung RMSE untuk setiap klasifikasi\n",
        "rmse = np.sqrt(mean_squared_error(y_test, y_pred))\n",
        "\n",
        "# Menampilkan nilai RMSE\n",
        "print('Nilai RMSE komposisi 70:30 adalah {:.2f}'.format(rmse))"
      ],
      "metadata": {
        "colab": {
          "base_uri": "https://localhost:8080/"
        },
        "id": "YBHKZxrSZI8n",
        "outputId": "43e8ac52-9c7e-4fcd-9a2a-01212e9db079"
      },
      "execution_count": 20,
      "outputs": [
        {
          "output_type": "stream",
          "name": "stdout",
          "text": [
            "Nilai RMSE komposisi 70:30 adalah 0.00\n"
          ]
        }
      ]
    },
    {
      "cell_type": "markdown",
      "source": [
        "### Confusion Matrix"
      ],
      "metadata": {
        "id": "Wq7H4jvhZMqX"
      }
    },
    {
      "cell_type": "code",
      "source": [
        "disp = metrics.ConfusionMatrixDisplay(metrics.confusion_matrix\n",
        "                                        (y_test, y_pred), \n",
        "                                        display_labels=gnb.classes_)\n",
        "disp.plot()\n",
        "plt.title('Confusion Matrix NB 70:30')\n",
        "plt.show()\n",
        "print()"
      ],
      "metadata": {
        "colab": {
          "base_uri": "https://localhost:8080/",
          "height": 490
        },
        "id": "olCcu7AoZO-h",
        "outputId": "97917e50-dbd8-43db-99bd-f5d127edf04d"
      },
      "execution_count": 21,
      "outputs": [
        {
          "output_type": "display_data",
          "data": {
            "text/plain": [
              "<Figure size 640x480 with 2 Axes>"
            ],
            "image/png": "[encoded data removed]"
          },
          "metadata": {}
        },
        {
          "output_type": "stream",
          "name": "stdout",
          "text": [
            "\n"
          ]
        }
      ]
    },
    {
      "cell_type": "markdown",
      "source": [
        "### AUCROC"
      ],
      "metadata": {
        "id": "Ubp9--zPZWDI"
      }
    },
    {
      "cell_type": "code",
      "source": [
        "#plot ROC curve dengan matplotlib.pyplot\n",
        "from sklearn.metrics import auc\n",
        "\n",
        "y_dec = gnb.fit(x_train, y_train).predict_proba(x_test)[:, 1]\n",
        "\n",
        "fpr, tpr, thresholds = metrics.roc_curve(y_test, y_dec, pos_label=2)\n",
        "\n",
        "plt.plot(fpr, tpr, marker='.', label=\"NB 70:30 (AUCROC ={:.3f})\".format(auc(fpr, tpr)))\n",
        "\n",
        "plt.title('ROC Plot Naive Bayes')\n",
        "plt.xlabel('False Positive Rate')\n",
        "plt.ylabel('True Positive Rate')\n",
        "plt.legend()\n",
        "plt.show()"
      ],
      "metadata": {
        "colab": {
          "base_uri": "https://localhost:8080/",
          "height": 472
        },
        "id": "ByjrxzjlZT43",
        "outputId": "4854330a-bf27-4aba-da7d-9480444b20f6"
      },
      "execution_count": 22,
      "outputs": [
        {
          "output_type": "display_data",
          "data": {
            "text/plain": [
              "<Figure size 640x480 with 1 Axes>"
            ],
            "image/png": "[encoded data removed]"
          },
          "metadata": {}
        }
      ]
    },
    {
      "cell_type": "markdown",
      "source": [
        "## KODE 4 RF + PPCA + SMOTENC"
      ],
      "metadata": {
        "id": "JfayQhmK4z4q"
      }
    },
    {
      "cell_type": "code",
      "source": [
        "# Load dataset\n",
        "df = pd.read_excel('dataset_hepatitis.xlsx')\n",
        "\n",
        "# Split dataset into input and output variables\n",
        "x = df.drop(['class'], axis=1)\n",
        "y = df['class']\n",
        "\n",
        "x = x.replace('?', np.nan)\n",
        "\n",
        "# Menyatakan data kategorik dan numerik\n",
        "cat_cols = ['sex', 'steroid', 'antivirals', 'fatigue', 'malaise', 'anorexia',\n",
        "            'liver_big', 'liver_firm', 'spleen_palpable', 'spiders', 'ascites',\n",
        "            'varices', 'histology']\n",
        "\n",
        "num_cols = ['age', 'bilirubin', 'alk_phosphate', 'sgot', 'albumin', 'protime']\n",
        "\n",
        "# Mengisi nilai NaN dengan mode pada kolom kategorik\n",
        "for col in cat_cols:\n",
        "    x[col].fillna(x[col].mode()[0], inplace=True)\n",
        "\n",
        "# Mengisi nilai NaN dengan mean pada kolom numerik\n",
        "for col in num_cols:\n",
        "    x[col].fillna(x[col].mean(), inplace=True)\n",
        "\n",
        "x_pre = pd.concat([x[cat_cols], x[num_cols]], axis=1)\n",
        "\n",
        "# Normalisasi dengan Standard Scaler\n",
        "scaler = StandardScaler()\n",
        "x_sc = pd.DataFrame(scaler.fit_transform(x_pre), columns=x_pre.columns)\n",
        "\n",
        "# Membuat DataFrame dari hasil Standard Scaler\n",
        "df_sc = pd.DataFrame(x_sc, columns=x_sc.columns)\n",
        "df_sc['class'] = y\n",
        "df_sc.to_excel('hasil_scaling.xlsx', index=False)\n",
        "\n",
        "# Imputasi PPCA\n",
        "imputer = PPCA()\n",
        "imputer.fit(x_sc.values)\n",
        "x_imputed = imputer.transform(x_sc.values)\n",
        "x_imputed = pd.DataFrame(x_imputed, columns=x_sc.columns)\n",
        "\n",
        "# Membuat DataFrame dari hasil imputasi PPCA\n",
        "df_imputed = pd.DataFrame(x_imputed, columns=x_imputed.columns)\n",
        "df_imputed['class'] = y\n",
        "x_imp = df_imputed.drop(['class'], axis=1)\n",
        "x_imp.to_excel('hasil_ppca.xlsx', index=False)\n",
        "\n",
        "from imblearn.over_sampling import SMOTENC\n",
        "# Perform SMOTEN to balance classes\n",
        "sm = SMOTENC(categorical_features = [0,1,2,3,4,5,6,7,8,9,10,11,12],\n",
        "             k_neighbors = 5,\n",
        "             random_state = 0,\n",
        "             sampling_strategy = 'minority')\n",
        "x_res, y_res = sm.fit_resample(x_imp, y)\n",
        "\n",
        "# Membuat DataFrame dari hasil SMOTE\n",
        "df_smote = pd.DataFrame(x_res, columns=x_imputed.columns)\n",
        "df_smote['class'] = y_res\n",
        "df_smote.to_excel('hasil_smote.xlsx', index=False)\n",
        "\n",
        "# Import fungsi split data dengan train_test_split \n",
        "x_train, x_test, y_train, y_test = train_test_split(x_res, y_res, stratify=y_res, test_size=0.3, random_state=0)\n",
        "\n",
        "from sklearn.ensemble import RandomForestClassifier\n",
        "rf = RandomForestClassifier(random_state=0,\n",
        "                            class_weight='balanced',\n",
        "                            n_estimators=100)\n",
        "\n",
        "# Memasukkan data training pada fungsi klasifikasi naive bayes\n",
        "y_pred = rf.fit(x_train, y_train).predict(x_test)\n",
        "\n",
        "# Menampilkan nilai akurasi dari klasifikasi naive bayes\n",
        "print('Nilai akurasi komposisi 70:30 adalah {:.2f}%'.format(metrics.accuracy_score(y_test, y_pred)*100))"
      ],
      "metadata": {
        "colab": {
          "base_uri": "https://localhost:8080/"
        },
        "id": "H19ZeaIZ43Bw",
        "outputId": "86210a19-f870-4ad9-f4a3-cdf614ff22e2"
      },
      "execution_count": 23,
      "outputs": [
        {
          "output_type": "stream",
          "name": "stdout",
          "text": [
            "Nilai akurasi komposisi 70:30 adalah 89.19%\n"
          ]
        }
      ]
    },
    {
      "cell_type": "markdown",
      "source": [
        "### RMSE"
      ],
      "metadata": {
        "id": "1HH-r6H4Z2BE"
      }
    },
    {
      "cell_type": "code",
      "source": [
        "from sklearn.metrics import mean_squared_error\n",
        "\n",
        "# Menghitung RMSE untuk setiap klasifikasi\n",
        "rmse = np.sqrt(mean_squared_error(y_test, y_pred))\n",
        "\n",
        "# Menampilkan nilai RMSE\n",
        "print('Nilai RMSE komposisi 70:30 adalah {:.2f}'.format(rmse))"
      ],
      "metadata": {
        "colab": {
          "base_uri": "https://localhost:8080/"
        },
        "id": "Mjqt51J9Z3XO",
        "outputId": "3070b523-c6e6-4c01-f1aa-5a81678fb327"
      },
      "execution_count": 24,
      "outputs": [
        {
          "output_type": "stream",
          "name": "stdout",
          "text": [
            "Nilai RMSE komposisi 70:30 adalah 0.33\n"
          ]
        }
      ]
    },
    {
      "cell_type": "markdown",
      "source": [
        "### Confusion Matrix"
      ],
      "metadata": {
        "id": "P3lncYEOZ4Fu"
      }
    },
    {
      "cell_type": "code",
      "source": [
        "disp = metrics.ConfusionMatrixDisplay(metrics.confusion_matrix\n",
        "                                        (y_test, y_pred), \n",
        "                                        display_labels=rf.classes_)\n",
        "disp.plot()\n",
        "plt.title('Confusion Matrix RF 70:30')\n",
        "plt.show()\n",
        "print()"
      ],
      "metadata": {
        "colab": {
          "base_uri": "https://localhost:8080/",
          "height": 490
        },
        "id": "WqtMRLDkZ7eS",
        "outputId": "fd29ab4a-a4ea-4088-f270-a8cfd80fa0e2"
      },
      "execution_count": 25,
      "outputs": [
        {
          "output_type": "display_data",
          "data": {
            "text/plain": [
              "<Figure size 640x480 with 2 Axes>"
            ],
            "image/png": "[encoded data removed]"
          },
          "metadata": {}
        },
        {
          "output_type": "stream",
          "name": "stdout",
          "text": [
            "\n"
          ]
        }
      ]
    },
    {
      "cell_type": "markdown",
      "source": [
        "### AUCROC"
      ],
      "metadata": {
        "id": "d65fAxLMZ8D_"
      }
    },
    {
      "cell_type": "code",
      "source": [
        "#plot ROC curve dengan matplotlib.pyplot\n",
        "from sklearn.metrics import auc\n",
        "\n",
        "y_dec = gnb.fit(x_train, y_train).predict_proba(x_test)[:, 1]\n",
        "\n",
        "fpr, tpr, thresholds = metrics.roc_curve(y_test, y_dec, pos_label=2)\n",
        "\n",
        "plt.plot(fpr, tpr, marker='.', label=\"RF 70:30 (AUCROC ={:.3f})\".format(auc(fpr, tpr)))\n",
        "\n",
        "plt.title('ROC Plot Random Forest')\n",
        "plt.xlabel('False Positive Rate')\n",
        "plt.ylabel('True Positive Rate')\n",
        "plt.legend()\n",
        "plt.show()"
      ],
      "metadata": {
        "colab": {
          "base_uri": "https://localhost:8080/",
          "height": 472
        },
        "id": "mtP_X8etZ9oL",
        "outputId": "dd1409e8-1a42-404e-cc46-7210be7684ee"
      },
      "execution_count": 26,
      "outputs": [
        {
          "output_type": "display_data",
          "data": {
            "text/plain": [
              "<Figure size 640x480 with 1 Axes>"
            ],
            "image/png": "[encoded data removed]"
          },
          "metadata": {}
        }
      ]
    },
    {
      "cell_type": "markdown",
      "source": [
        "# Skenario 3: Klasifikasi + Normalisasi + Balancing Data"
      ],
      "metadata": {
        "id": "JSFdVwdqf9sq"
      }
    },
    {
      "cell_type": "markdown",
      "source": [
        "## Kode 1 NB + SCUT + Standard Scaler "
      ],
      "metadata": {
        "id": "RbkIoNc-f9ss"
      }
    },
    {
      "cell_type": "code",
      "source": [
        "# Membaca dataset dari file Excel\n",
        "dataset = pd.read_excel('dataset_hepatitis.xlsx')\n",
        "\n",
        "# Mengganti nilai ? dengan NaN\n",
        "data = dataset.replace('?', np.nan)\n",
        "\n",
        "# Menghapus baris yang memiliki missing value\n",
        "df = data.dropna()\n",
        "df.to_excel('hasil_dropna.xlsx', index=False)\n",
        "\n",
        "# Pisahkan atribut (x) dan target (y)\n",
        "x = df.drop(['class'], axis=1)\n",
        "y = df['class']\n",
        "\n",
        "# Import fungsi split data dengan train_test_split \n",
        "x_train, x_test, y_train, y_test = train_test_split(x, y, stratify=y, test_size=0.3, random_state=0)\n",
        "\n",
        "# Normalisasi dengan Standard Scaler\n",
        "scaler = StandardScaler()\n",
        "x_train_sc = pd.DataFrame(scaler.fit_transform(x_train.values), columns=x_train.columns)\n",
        "x_test_sc = pd.DataFrame(scaler.transform(x_test.values), columns=x_test.columns)\n",
        "\n",
        "# Membuat DataFrame dari hasil Standard Scaler\n",
        "df_train_sc = pd.DataFrame(x_train_sc.values, columns=x_train_sc.columns)\n",
        "df_train_sc['class'] = y_train\n",
        "df_train_sc.to_excel('hasil_scaling_train.xlsx', index=False)\n",
        "\n",
        "df_test_sc = pd.DataFrame(x_test_sc.values, columns=x_test_sc.columns)\n",
        "df_test_sc['class'] = y_test\n",
        "df_test_sc.to_excel('hasil_scaling_test.xlsx', index=False)\n",
        "\n",
        "# Implementasi SCUT\n",
        "class SCUT:\n",
        "    def __init__(self, n_clusters=2):\n",
        "        self.n_clusters = n_clusters\n",
        "        self.cluster_centroids = ClusterCentroids(random_state=0)\n",
        "\n",
        "    def fit_resample(self, X, y):\n",
        "        kmeans = KMeans(n_clusters=self.n_clusters, random_state=0)\n",
        "        cluster_labels = kmeans.fit_predict(X, y)\n",
        "        majority_cluster = np.argmax(np.bincount(cluster_labels))\n",
        "        majority_samples = cluster_labels == majority_cluster\n",
        "        X_majority = X[majority_samples]\n",
        "        y_majority = y[majority_samples]\n",
        "        X_resampled, y_resampled = self.cluster_centroids.fit_resample(X, y)\n",
        "        X_resampled = np.concatenate([X_resampled, X_majority])\n",
        "        y_resampled = np.concatenate([y_resampled, y_majority])\n",
        "        return X_resampled, y_resampled\n",
        "\n",
        "# Perform SCUT to balance classes on training data\n",
        "scut = SCUT(n_clusters=2)\n",
        "x_train_res, y_train_res = scut.fit_resample(x_train_sc, y_train)\n",
        "\n",
        "# Membuat DataFrame dari hasil SCUT\n",
        "df_train_scut = pd.DataFrame(x_train_res, columns=x_train_sc.columns)\n",
        "df_train_scut['class'] = y_train_res\n",
        "df_train_scut.to_excel('hasil_scut_train.xlsx', index=False)\n",
        "\n",
        "# Memanggil fungsi klasifikasi Naive Bayes\n",
        "gnb = GaussianNB()\n",
        "\n",
        "# Memasukkan data training pada fungsi klasifikasi naive bayes\n",
        "y_pred = gnb.fit(x_train_res, y_train_res).predict(x_test_sc)\n",
        "\n",
        "# Menampilkan nilai akurasi dari klasifikasi naive bayes\n",
        "print('Nilai akurasi komposisi 70:30 adalah {:.2f}%'.format(metrics.accuracy_score(y_test, y_pred)*100))"
      ],
      "metadata": {
        "colab": {
          "base_uri": "https://localhost:8080/"
        },
        "outputId": "724d149a-7a45-4fc6-f9b5-e767b961d0e1",
        "id": "XtI9V8pef9st"
      },
      "execution_count": 27,
      "outputs": [
        {
          "output_type": "stream",
          "name": "stdout",
          "text": [
            "Nilai akurasi komposisi 70:30 adalah 87.50%\n"
          ]
        }
      ]
    },
    {
      "cell_type": "markdown",
      "source": [
        "## Kode 2 NB + SMOTENC + Standard Scaler"
      ],
      "metadata": {
        "id": "r4q_XuETf9sx"
      }
    },
    {
      "cell_type": "code",
      "source": [
        "# Membaca dataset dari file Excel\n",
        "dataset = pd.read_excel('dataset_hepatitis.xlsx')\n",
        "\n",
        "# Mengganti nilai ? dengan NaN\n",
        "data = dataset.replace('?', np.nan)\n",
        "\n",
        "# Menghapus baris yang memiliki missing value\n",
        "df = data.dropna()\n",
        "df.to_excel('hasil_dropna.xlsx', index=False)\n",
        "\n",
        "# Pisahkan atribut (x) dan target (y)\n",
        "x = df.drop(['class'], axis=1)\n",
        "y = df['class']\n",
        "\n",
        "# Import fungsi split data dengan train_test_split \n",
        "x_train, x_test, y_train, y_test = train_test_split(x, y, stratify=y, test_size=0.3, random_state=0)\n",
        "\n",
        "# Normalisasi dengan Standard Scaler\n",
        "scaler = StandardScaler()\n",
        "x_train_sc = pd.DataFrame(scaler.fit_transform(x_train.values), columns=x_train.columns)\n",
        "x_test_sc = pd.DataFrame(scaler.transform(x_test.values), columns=x_test.columns)\n",
        "\n",
        "# Membuat DataFrame dari hasil Standard Scaler\n",
        "df_train_sc = pd.DataFrame(x_train_sc.values, columns=x_train_sc.columns)\n",
        "df_train_sc['class'] = y_train\n",
        "df_train_sc.to_excel('hasil_scaling_train.xlsx', index=False)\n",
        "\n",
        "df_test_sc = pd.DataFrame(x_test_sc.values, columns=x_test_sc.columns)\n",
        "df_test_sc['class'] = y_test\n",
        "df_test_sc.to_excel('hasil_scaling_test.xlsx', index=False)\n",
        "\n",
        "from imblearn.over_sampling import SMOTENC, SMOTEN\n",
        "sm = SMOTENC(categorical_features = [1, 2, 3, 4, 5, 6, 7, 8, 9, 10, 11, 12, 18],\n",
        "             k_neighbors = 2,\n",
        "             random_state = 0,\n",
        "             sampling_strategy = 'minority')\n",
        "\n",
        "# Membuat DataFrame dari hasil SMOTENC pada data training\n",
        "x_train_res, y_train_res = sm.fit_resample(x_train_sc.values, y_train)\n",
        "df_train_sm = pd.DataFrame(x_train_res, columns=x_train_sc.columns)\n",
        "df_train_sm['class'] = y_train_res\n",
        "df_train_sm.to_excel('hasil_smotenc_train.xlsx', index=False)\n",
        "\n",
        "# Perform SMOTENC pada data testing untuk menyeimbangkan kelas\n",
        "x_test_res, y_test_res = sm.fit_resample(x_test_sc.values, y_test)\n",
        "df_test_sm = pd.DataFrame(x_test_res, columns=x_test_sc.columns)\n",
        "df_test_sm['class'] = y_test_res\n",
        "df_test_sm.to_excel('hasil_smotenc_test.xlsx', index=False)\n",
        "\n",
        "# Memanggil fungsi klasifikasi Naive Bayes\n",
        "gnb = GaussianNB()\n",
        "\n",
        "# Memasukkan data training pada fungsi klasifikasi naive bayes\n",
        "y_pred = gnb.fit(x_train_res, y_train_res).predict(x_test_sc)\n",
        "\n",
        "# Menampilkan nilai akurasi dari klasifikasi naive bayes\n",
        "print('Nilai akurasi komposisi 70:30 adalah {:.2f}%'.format(metrics.accuracy_score(y_test, y_pred)*100))"
      ],
      "metadata": {
        "colab": {
          "base_uri": "https://localhost:8080/"
        },
        "outputId": "7ad5e0eb-50e4-4dc7-d3d9-4ed3d07c35f5",
        "id": "19eJtwPbf9sy"
      },
      "execution_count": 28,
      "outputs": [
        {
          "output_type": "stream",
          "name": "stdout",
          "text": [
            "Nilai akurasi komposisi 70:30 adalah 87.50%\n"
          ]
        }
      ]
    },
    {
      "cell_type": "markdown",
      "source": [
        "## Kode 3 RF + SCUT + Standard Scaler"
      ],
      "metadata": {
        "id": "lDgpUSGTf9s0"
      }
    },
    {
      "cell_type": "code",
      "source": [
        "# Membaca dataset dari file Excel\n",
        "dataset = pd.read_excel('dataset_hepatitis.xlsx')\n",
        "\n",
        "# Mengganti nilai ? dengan NaN\n",
        "data = dataset.replace('?', np.nan)\n",
        "\n",
        "# Menghapus baris yang memiliki missing value\n",
        "df = data.dropna()\n",
        "df.to_excel('hasil_dropna.xlsx', index=False)\n",
        "\n",
        "# Pisahkan atribut (x) dan target (y)\n",
        "x = df.drop(['class'], axis=1)\n",
        "y = df['class']\n",
        "\n",
        "# Import fungsi split data dengan train_test_split \n",
        "x_train, x_test, y_train, y_test = train_test_split(x, y, stratify=y, test_size=0.3, random_state=0)\n",
        "\n",
        "# Normalisasi dengan Standard Scaler\n",
        "scaler = StandardScaler()\n",
        "x_train_sc = pd.DataFrame(scaler.fit_transform(x_train.values), columns=x_train.columns)\n",
        "x_test_sc = pd.DataFrame(scaler.transform(x_test.values), columns=x_test.columns)\n",
        "\n",
        "# Membuat DataFrame dari hasil Standard Scaler\n",
        "df_train_sc = pd.DataFrame(x_train_sc.values, columns=x_train_sc.columns)\n",
        "df_train_sc['class'] = y_train\n",
        "df_train_sc.to_excel('hasil_scaling_train.xlsx', index=False)\n",
        "\n",
        "df_test_sc = pd.DataFrame(x_test_sc.values, columns=x_test_sc.columns)\n",
        "df_test_sc['class'] = y_test\n",
        "df_test_sc.to_excel('hasil_scaling_test.xlsx', index=False)\n",
        "\n",
        "# Implementasi SCUT\n",
        "class SCUT:\n",
        "    def __init__(self, n_clusters=2):\n",
        "        self.n_clusters = n_clusters\n",
        "        self.cluster_centroids = ClusterCentroids(random_state=0)\n",
        "\n",
        "    def fit_resample(self, X, y):\n",
        "        kmeans = KMeans(n_clusters=self.n_clusters, random_state=0)\n",
        "        cluster_labels = kmeans.fit_predict(X, y)\n",
        "        majority_cluster = np.argmax(np.bincount(cluster_labels))\n",
        "        majority_samples = cluster_labels == majority_cluster\n",
        "        X_majority = X[majority_samples]\n",
        "        y_majority = y[majority_samples]\n",
        "        X_resampled, y_resampled = self.cluster_centroids.fit_resample(X, y)\n",
        "        X_resampled = np.concatenate([X_resampled, X_majority])\n",
        "        y_resampled = np.concatenate([y_resampled, y_majority])\n",
        "        return X_resampled, y_resampled\n",
        "\n",
        "# Perform SCUT to balance classes on training data\n",
        "scut = SCUT(n_clusters=2)\n",
        "x_train_res, y_train_res = scut.fit_resample(x_train_sc, y_train)\n",
        "\n",
        "# Membuat DataFrame dari hasil SCUT\n",
        "df_train_scut = pd.DataFrame(x_train_res, columns=x_train_sc.columns)\n",
        "df_train_scut['class'] = y_train_res\n",
        "df_train_scut.to_excel('hasil_scut_train.xlsx', index=False)\n",
        "\n",
        "# Memanggil fungsi klasifikasi Naive Bayes\n",
        "rf = RandomForestClassifier(random_state=0, \n",
        "                            class_weight='balanced',\n",
        "                            n_estimators=100)\n",
        "\n",
        "# Memasukkan data training pada fungsi klasifikasi naive bayes\n",
        "y_pred = rf.fit(x_train_res, y_train_res).predict(x_test_sc)\n",
        "\n",
        "# Menampilkan nilai akurasi dari klasifikasi naive bayes\n",
        "print('Nilai akurasi komposisi 70:30 adalah {:.2f}%'.format(metrics.accuracy_score(y_test, y_pred)*100))"
      ],
      "metadata": {
        "colab": {
          "base_uri": "https://localhost:8080/"
        },
        "outputId": "ddb58640-d2bb-41ef-a2cb-21ddf74e61b1",
        "id": "iWVG8Qkhf9s0"
      },
      "execution_count": 29,
      "outputs": [
        {
          "output_type": "stream",
          "name": "stdout",
          "text": [
            "Nilai akurasi komposisi 70:30 adalah 91.67%\n"
          ]
        }
      ]
    },
    {
      "cell_type": "markdown",
      "source": [
        "## Kode 4 RF + SMOTENC + Standard Scaler"
      ],
      "metadata": {
        "id": "C7SwfliFf9s2"
      }
    },
    {
      "cell_type": "code",
      "source": [
        "# Membaca dataset dari file Excel\n",
        "dataset = pd.read_excel('dataset_hepatitis.xlsx')\n",
        "\n",
        "# Mengganti nilai ? dengan NaN\n",
        "data = dataset.replace('?', np.nan)\n",
        "\n",
        "# Menghapus baris yang memiliki missing value\n",
        "df = data.dropna()\n",
        "df.to_excel('hasil_dropna.xlsx', index=False)\n",
        "\n",
        "# Pisahkan atribut (x) dan target (y)\n",
        "x = df.drop(['class'], axis=1)\n",
        "y = df['class']\n",
        "\n",
        "# Import fungsi split data dengan train_test_split \n",
        "x_train, x_test, y_train, y_test = train_test_split(x, y, stratify=y, test_size=0.3, random_state=0)\n",
        "\n",
        "# Normalisasi dengan Standard Scaler\n",
        "scaler = StandardScaler()\n",
        "x_train_sc = pd.DataFrame(scaler.fit_transform(x_train.values), columns=x_train.columns)\n",
        "x_test_sc = pd.DataFrame(scaler.transform(x_test.values), columns=x_test.columns)\n",
        "\n",
        "# Membuat DataFrame dari hasil Standard Scaler\n",
        "df_train_sc = pd.DataFrame(x_train_sc.values, columns=x_train_sc.columns)\n",
        "df_train_sc['class'] = y_train\n",
        "df_train_sc.to_excel('hasil_scaling_train.xlsx', index=False)\n",
        "\n",
        "df_test_sc = pd.DataFrame(x_test_sc.values, columns=x_test_sc.columns)\n",
        "df_test_sc['class'] = y_test\n",
        "df_test_sc.to_excel('hasil_scaling_test.xlsx', index=False)\n",
        "\n",
        "from imblearn.over_sampling import SMOTENC, SMOTEN\n",
        "sm = SMOTENC(categorical_features = [1, 2, 3, 4, 5, 6, 7, 8, 9, 10, 11, 12, 18],\n",
        "             k_neighbors = 2,\n",
        "             random_state = 0,\n",
        "             sampling_strategy = 'minority')\n",
        "\n",
        "# Membuat DataFrame dari hasil SMOTENC pada data training\n",
        "x_train_res, y_train_res = sm.fit_resample(x_train_sc.values, y_train)\n",
        "df_train_sm = pd.DataFrame(x_train_res, columns=x_train_sc.columns)\n",
        "df_train_sm['class'] = y_train_res\n",
        "df_train_sm.to_excel('hasil_smotenc_train.xlsx', index=False)\n",
        "\n",
        "# Perform SMOTENC pada data testing untuk menyeimbangkan kelas\n",
        "x_test_res, y_test_res = sm.fit_resample(x_test_sc.values, y_test)\n",
        "df_test_sm = pd.DataFrame(x_test_res, columns=x_test_sc.columns)\n",
        "df_test_sm['class'] = y_test_res\n",
        "df_test_sm.to_excel('hasil_smotenc_test.xlsx', index=False)\n",
        "\n",
        "# Memanggil fungsi klasifikasi Naive Bayes\n",
        "rf = RandomForestClassifier(random_state=0, \n",
        "                            class_weight='balanced',\n",
        "                            n_estimators=100)\n",
        "\n",
        "# Memasukkan data training pada fungsi klasifikasi naive bayes\n",
        "y_pred = rf.fit(x_train_res, y_train_res).predict(x_test_sc)\n",
        "\n",
        "# Menampilkan nilai akurasi dari klasifikasi naive bayes\n",
        "print('Nilai akurasi komposisi 70:30 adalah {:.2f}%'.format(metrics.accuracy_score(y_test, y_pred)*100))"
      ],
      "metadata": {
        "colab": {
          "base_uri": "https://localhost:8080/"
        },
        "outputId": "22fe5098-9176-4bf3-9ace-31b7d3c33946",
        "id": "WVSItNK1f9s9"
      },
      "execution_count": 30,
      "outputs": [
        {
          "output_type": "stream",
          "name": "stdout",
          "text": [
            "Nilai akurasi komposisi 70:30 adalah 83.33%\n"
          ]
        }
      ]
    },
    {
      "cell_type": "markdown",
      "source": [
        "# Skenario 4: Klasifikasi + Imputasi + Normalisasi + Balancing Data"
      ],
      "metadata": {
        "id": "U8EDN0f0f9tC"
      }
    },
    {
      "cell_type": "markdown",
      "source": [
        "## Kode 1 NB + PPCA + SCUT + Standard Scaler"
      ],
      "metadata": {
        "id": "YrCEqmpYf9tD"
      }
    },
    {
      "cell_type": "code",
      "source": [
        "# Load dataset\n",
        "dataset = pd.read_excel('dataset_hepatitis.xlsx')\n",
        "\n",
        "# Mengganti nilai ? dengan Nan\n",
        "df = dataset.replace('?', np.nan)\n",
        "\n",
        "# Split dataset into input and output variables\n",
        "x = df.drop(['class'], axis=1)\n",
        "y = df['class']\n",
        "\n",
        "# Import train_test_split func\n",
        "x_train, x_test, y_train, y_test = train_test_split(x, y, stratify=y, test_size=0.3, random_state=0)\n",
        "\n",
        "# Menyatakan data kategorik dan numerik\n",
        "cat_cols = ['sex', 'steroid', 'antivirals', 'fatigue', 'malaise', 'anorexia',\n",
        "            'liver_big', 'liver_firm', 'spleen_palpable', 'spiders', 'ascites',\n",
        "            'varices', 'histology']\n",
        "\n",
        "num_cols = ['age', 'bilirubin', 'alk_phosphate', 'sgot', 'albumin', 'protime']\n",
        "\n",
        "# Mengisi nilai NaN dengan mode pada kolom kategorik pada data training\n",
        "for col in cat_cols:\n",
        "    x_train[col].fillna(x_train[col].mode()[0], inplace=True)\n",
        "\n",
        "# Mengisi nilai NaN dengan mean pada kolom numerik pada data training\n",
        "for col in num_cols:\n",
        "    x_train[col].fillna(x_train[col].mean(), inplace=True)\n",
        "\n",
        "# Normalisasi dengan Standard Scaler pada data training\n",
        "scaler = StandardScaler()\n",
        "x_train_sc = pd.DataFrame(scaler.fit_transform(x_train), columns=x_train.columns)\n",
        "\n",
        "# Mengisi nilai NaN dengan mode pada kolom kategorik pada data testing\n",
        "for col in cat_cols:\n",
        "    x_test[col].fillna(x_train[col].mode()[0], inplace=True)\n",
        "\n",
        "# Mengisi nilai NaN dengan mean pada kolom numerik pada data testing\n",
        "for col in num_cols:\n",
        "    if col in x_test.columns:\n",
        "        x_test[col].fillna(x_train[col].mean(), inplace=True)\n",
        "\n",
        "# Normalisasi dengan Standard Scaler pada data testing\n",
        "x_test_sc = pd.DataFrame(scaler.transform(x_test), columns=x_test.columns)\n",
        "\n",
        "# Membuat DataFrame dari hasil Standard Scaler pada data training\n",
        "df_train_sc = pd.concat([x_train_sc, y_train], axis=1)\n",
        "df_train_sc.to_excel('hasil_scaling_train.xlsx', index=False)\n",
        "\n",
        "# Membuat DataFrame dari hasil Standard Scaler pada data testing\n",
        "df_test_sc = pd.concat([x_test_sc, y_test], axis=1)\n",
        "df_test_sc.to_excel('hasil_scaling_test.xlsx', index=False)\n",
        "\n",
        "# Imputasi PPCA pada data training\n",
        "imputer = PPCA()\n",
        "imputer.fit(x_train_sc.values)\n",
        "x_train_imputed = imputer.transform(x_train_sc.values)\n",
        "x_train_imputed = pd.DataFrame(x_train_imputed, columns=x_train_sc.columns)\n",
        "\n",
        "# Membuat DataFrame dari hasil imputasi PPCA pada data training\n",
        "df_train_imputed = pd.concat([x_train_imputed, y_train], axis=1)\n",
        "df_train_imputed.to_excel('hasil_ppca_train.xlsx', index=False)\n",
        "\n",
        "# Imputasi PPCA pada data testing\n",
        "x_test_imputed = imputer.transform(x_test_sc.values)\n",
        "x_test_imputed = pd.DataFrame(x_test_imputed, columns=x_test_sc.columns)\n",
        "\n",
        "# Membuat DataFrame dari hasil imputasi PPCA pada data testing\n",
        "df_test_imputed = pd.concat([x_test_imputed, y_test], axis=1)\n",
        "df_test_imputed.to_excel('hasil_ppca_test.xlsx', index=False)\n",
        "\n",
        "# Implementasi SCUT pada data training\n",
        "class SCUT:\n",
        "    def __init__(self, n_clusters=2):\n",
        "        self.n_clusters = n_clusters\n",
        "        self.cluster_centroids = ClusterCentroids(random_state=0)\n",
        "\n",
        "    def fit_resample(self, X, y):\n",
        "        kmeans = KMeans(n_clusters=self.n_clusters, random_state=0)\n",
        "        cluster_labels = kmeans.fit_predict(X, y)\n",
        "        majority_cluster = np.argmax(np.bincount(cluster_labels))\n",
        "        majority_samples = cluster_labels == majority_cluster\n",
        "        X_majority = X[majority_samples]\n",
        "        y_majority = y[majority_samples]\n",
        "        X_resampled, y_resampled = self.cluster_centroids.fit_resample(X, y)\n",
        "        X_resampled = np.concatenate([X_resampled, X_majority])\n",
        "        y_resampled = np.concatenate([y_resampled, y_majority])\n",
        "        return X_resampled, y_resampled\n",
        "\n",
        "# Perform SCUT pada data training untuk menyeimbangkan kelas\n",
        "scut = SCUT(n_clusters=2)\n",
        "x_train_res, y_train_res = scut.fit_resample(x_train_imputed.values, y_train)\n",
        "\n",
        "# Membuat DataFrame dari hasil SCUT pada data training\n",
        "df_train_scut = pd.DataFrame(x_train_res, columns=x_train_imputed.columns)\n",
        "df_train_scut['class'] = y_train_res\n",
        "df_train_scut.to_excel('hasil_scut_train.xlsx', index=False)\n",
        "\n",
        "# Perform SCUT pada data testing untuk menyeimbangkan kelas\n",
        "x_test_res, y_test_res = scut.fit_resample(x_test_imputed.values, y_test)\n",
        "df_test_scut = pd.DataFrame(x_test_res, columns=x_test_imputed.columns)\n",
        "df_test_scut['class'] = y_test_res\n",
        "df_test_scut.to_excel('hasil_scut_test.xlsx', index=False)\n",
        "\n",
        "# Memanggil fungsi klasifikasi Naive Bayes\n",
        "gnb = GaussianNB()\n",
        "\n",
        "# Memasukkan data training pada fungsi klasifikasi Naive Bayes\n",
        "y_pred = gnb.fit(x_train_res, y_train_res).predict(x_test_res)\n",
        "\n",
        "# Menampilkan nilai akurasi dari klasifikasi Naive Bayes\n",
        "print('Nilai akurasi komposisi 70:30 adalah {:.2f}%'.format(metrics.accuracy_score(y_test_res, y_pred)*100))"
      ],
      "metadata": {
        "colab": {
          "base_uri": "https://localhost:8080/"
        },
        "outputId": "2d15e7a3-6684-409d-a0f3-bbd6772d4e84",
        "id": "uHywE6pAf9tE"
      },
      "execution_count": 31,
      "outputs": [
        {
          "output_type": "stream",
          "name": "stdout",
          "text": [
            "Nilai akurasi komposisi 70:30 adalah 80.00%\n"
          ]
        }
      ]
    },
    {
      "cell_type": "markdown",
      "source": [
        "## Kode 2 NB + PPCA + SMOTENC + Standard Scaler"
      ],
      "metadata": {
        "id": "dbZovdPTf9tG"
      }
    },
    {
      "cell_type": "code",
      "source": [
        "# Load dataset\n",
        "dataset = pd.read_excel('dataset_hepatitis.xlsx')\n",
        "\n",
        "# Mengganti nilai ? dengan Nan\n",
        "df = dataset.replace('?', np.nan)\n",
        "\n",
        "# Split dataset into input and output variables\n",
        "x = df.drop(['class'], axis=1)\n",
        "y = df['class']\n",
        "\n",
        "# Import train_test_split func\n",
        "x_train, x_test, y_train, y_test = train_test_split(x, y, stratify=y, test_size=0.3, random_state=42)\n",
        "\n",
        "# Menyatakan data kategorik dan numerik\n",
        "cat_cols = ['sex', 'steroid', 'antivirals', 'fatigue', 'malaise', 'anorexia',\n",
        "            'liver_big', 'liver_firm', 'spleen_palpable', 'spiders', 'ascites',\n",
        "            'varices', 'histology']\n",
        "\n",
        "num_cols = ['age', 'bilirubin', 'alk_phosphate', 'sgot', 'albumin', 'protime']\n",
        "\n",
        "# Mengisi nilai NaN dengan mode pada kolom kategorik pada data training\n",
        "for col in cat_cols:\n",
        "    x_train[col].fillna(x_train[col].mode()[0], inplace=True)\n",
        "\n",
        "# Mengisi nilai NaN dengan mean pada kolom numerik pada data training\n",
        "for col in num_cols:\n",
        "    x_train[col].fillna(x_train[col].mean(), inplace=True)\n",
        "\n",
        "# Normalisasi dengan Standard Scaler pada data training\n",
        "scaler = StandardScaler()\n",
        "x_train_sc = pd.DataFrame(scaler.fit_transform(x_train), columns=x_train.columns)\n",
        "\n",
        "# Mengisi nilai NaN dengan mode pada kolom kategorik pada data testing\n",
        "for col in cat_cols:\n",
        "    x_test[col].fillna(x_train[col].mode()[0], inplace=True)\n",
        "\n",
        "# Mengisi nilai NaN dengan mean pada kolom numerik pada data testing\n",
        "for col in num_cols:\n",
        "    if col in x_test.columns:\n",
        "        x_test[col].fillna(x_train[col].mean(), inplace=True)\n",
        "\n",
        "# Normalisasi dengan Standard Scaler pada data testing\n",
        "x_test_sc = pd.DataFrame(scaler.transform(x_test), columns=x_test.columns)\n",
        "\n",
        "# Membuat DataFrame dari hasil Standard Scaler pada data training\n",
        "df_train_sc = pd.concat([x_train_sc, y_train], axis=1)\n",
        "df_train_sc.to_excel('hasil_scaling_train.xlsx', index=False)\n",
        "\n",
        "# Membuat DataFrame dari hasil Standard Scaler pada data testing\n",
        "df_test_sc = pd.concat([x_test_sc, y_test], axis=1)\n",
        "df_test_sc.to_excel('hasil_scaling_test.xlsx', index=False)\n",
        "\n",
        "# Imputasi PPCA pada data training\n",
        "imputer = PPCA()\n",
        "imputer.fit(x_train_sc.values)\n",
        "x_train_imputed = imputer.transform(x_train_sc.values)\n",
        "x_train_imputed = pd.DataFrame(x_train_imputed, columns=x_train_sc.columns)\n",
        "\n",
        "# Membuat DataFrame dari hasil imputasi PPCA pada data training\n",
        "df_train_imputed = pd.concat([x_train_imputed, y_train], axis=1)\n",
        "df_train_imputed.to_excel('hasil_ppca_train.xlsx', index=False)\n",
        "\n",
        "# Imputasi PPCA pada data testing\n",
        "x_test_imputed = imputer.transform(x_test_sc.values)\n",
        "x_test_imputed = pd.DataFrame(x_test_imputed, columns=x_test_sc.columns)\n",
        "\n",
        "# Membuat DataFrame dari hasil imputasi PPCA pada data testing\n",
        "df_test_imputed = pd.concat([x_test_imputed, y_test], axis=1)\n",
        "df_test_imputed.to_excel('hasil_ppca_test.xlsx', index=False)\n",
        "\n",
        "from imblearn.over_sampling import SMOTENC\n",
        "# Perform SMOTEN to balance classes\n",
        "sm = SMOTENC(categorical_features = [1, 2, 3, 4, 5, 6, 7, 8, 9, 10, 11, 12, 18],\n",
        "             k_neighbors = 2,\n",
        "             random_state = 0,\n",
        "             sampling_strategy = 'minority')\n",
        "x_train_res, y_train_res = sm.fit_resample(x_train_imputed.values, y_train)\n",
        "\n",
        "# Membuat DataFrame dari hasil SMOTENC pada data training\n",
        "df_train_sm = pd.DataFrame(x_train_res, columns=x_train_imputed.columns)\n",
        "df_train_sm['class'] = y_train_res\n",
        "df_train_sm.to_excel('hasil_smotenc_train.xlsx', index=False)\n",
        "\n",
        "# Perform SMOTENC pada data testing untuk menyeimbangkan kelas\n",
        "x_test_res, y_test_res = sm.fit_resample(x_test_imputed.values, y_test)\n",
        "df_test_sm = pd.DataFrame(x_test_res, columns=x_test_imputed.columns)\n",
        "df_test_sm['class'] = y_test_res\n",
        "df_test_sm.to_excel('hasil_smotenc_test.xlsx', index=False)\n",
        "\n",
        "# Memanggil fungsi klasifikasi Naive Bayes\n",
        "gnb = GaussianNB()\n",
        "\n",
        "# Memasukkan data training pada fungsi klasifikasi Naive Bayes\n",
        "y_pred = gnb.fit(x_train_res, y_train_res).predict(x_test_res)\n",
        "\n",
        "# Menampilkan nilai akurasi dari klasifikasi Naive Bayes\n",
        "print('Nilai akurasi komposisi 70:30 adalah {:.2f}%'.format(metrics.accuracy_score(y_test_res, y_pred)*100))"
      ],
      "metadata": {
        "colab": {
          "base_uri": "https://localhost:8080/"
        },
        "outputId": "5a12cfaf-fa86-4891-c12a-517e887ce9b4",
        "id": "DI4Cpgzvf9tH"
      },
      "execution_count": 32,
      "outputs": [
        {
          "output_type": "stream",
          "name": "stdout",
          "text": [
            "Nilai akurasi komposisi 70:30 adalah 83.78%\n"
          ]
        }
      ]
    },
    {
      "cell_type": "markdown",
      "source": [
        "## Kode 3 RF + PPCA + SCUT + Standard Scaler"
      ],
      "metadata": {
        "id": "7vXPL5nff9tI"
      }
    },
    {
      "cell_type": "code",
      "source": [
        "# Load dataset\n",
        "dataset = pd.read_excel('dataset_hepatitis.xlsx')\n",
        "\n",
        "# Mengganti nilai ? dengan Nan\n",
        "df = dataset.replace('?', np.nan)\n",
        "\n",
        "# Split dataset into input and output variables\n",
        "x = df.drop(['class'], axis=1)\n",
        "y = df['class']\n",
        "\n",
        "# Import train_test_split func\n",
        "x_train, x_test, y_train, y_test = train_test_split(x, y, stratify=y, test_size=0.3, random_state=0)\n",
        "\n",
        "# Menyatakan data kategorik dan numerik\n",
        "cat_cols = ['sex', 'steroid', 'antivirals', 'fatigue', 'malaise', 'anorexia',\n",
        "            'liver_big', 'liver_firm', 'spleen_palpable', 'spiders', 'ascites',\n",
        "            'varices', 'histology']\n",
        "\n",
        "num_cols = ['age', 'bilirubin', 'alk_phosphate', 'sgot', 'albumin', 'protime']\n",
        "\n",
        "# Mengisi nilai NaN dengan mode pada kolom kategorik pada data training\n",
        "for col in cat_cols:\n",
        "    x_train[col].fillna(x_train[col].mode()[0], inplace=True)\n",
        "\n",
        "# Mengisi nilai NaN dengan mean pada kolom numerik pada data training\n",
        "for col in num_cols:\n",
        "    x_train[col].fillna(x_train[col].mean(), inplace=True)\n",
        "\n",
        "# Normalisasi dengan Standard Scaler pada data training\n",
        "scaler = StandardScaler()\n",
        "x_train_sc = pd.DataFrame(scaler.fit_transform(x_train), columns=x_train.columns)\n",
        "\n",
        "# Mengisi nilai NaN dengan mode pada kolom kategorik pada data testing\n",
        "for col in cat_cols:\n",
        "    x_test[col].fillna(x_train[col].mode()[0], inplace=True)\n",
        "\n",
        "# Mengisi nilai NaN dengan mean pada kolom numerik pada data testing\n",
        "for col in num_cols:\n",
        "    if col in x_test.columns:\n",
        "        x_test[col].fillna(x_train[col].mean(), inplace=True)\n",
        "\n",
        "# Normalisasi dengan Standard Scaler pada data testing\n",
        "x_test_sc = pd.DataFrame(scaler.transform(x_test), columns=x_test.columns)\n",
        "\n",
        "# Membuat DataFrame dari hasil Standard Scaler pada data training\n",
        "df_train_sc = pd.concat([x_train_sc, y_train], axis=1)\n",
        "df_train_sc.to_excel('hasil_scaling_train.xlsx', index=False)\n",
        "\n",
        "# Membuat DataFrame dari hasil Standard Scaler pada data testing\n",
        "df_test_sc = pd.concat([x_test_sc, y_test], axis=1)\n",
        "df_test_sc.to_excel('hasil_scaling_test.xlsx', index=False)\n",
        "\n",
        "# Imputasi PPCA pada data training\n",
        "imputer = PPCA()\n",
        "imputer.fit(x_train_sc.values)\n",
        "x_train_imputed = imputer.transform(x_train_sc.values)\n",
        "x_train_imputed = pd.DataFrame(x_train_imputed, columns=x_train_sc.columns)\n",
        "\n",
        "# Membuat DataFrame dari hasil imputasi PPCA pada data training\n",
        "df_train_imputed = pd.concat([x_train_imputed, y_train], axis=1)\n",
        "df_train_imputed.to_excel('hasil_ppca_train.xlsx', index=False)\n",
        "\n",
        "# Imputasi PPCA pada data testing\n",
        "x_test_imputed = imputer.transform(x_test_sc.values)\n",
        "x_test_imputed = pd.DataFrame(x_test_imputed, columns=x_test_sc.columns)\n",
        "\n",
        "# Membuat DataFrame dari hasil imputasi PPCA pada data testing\n",
        "df_test_imputed = pd.concat([x_test_imputed, y_test], axis=1)\n",
        "df_test_imputed.to_excel('hasil_ppca_test.xlsx', index=False)\n",
        "\n",
        "# Implementasi SCUT pada data training\n",
        "class SCUT:\n",
        "    def __init__(self, n_clusters=2):\n",
        "        self.n_clusters = n_clusters\n",
        "        self.cluster_centroids = ClusterCentroids(random_state=0)\n",
        "\n",
        "    def fit_resample(self, X, y):\n",
        "        kmeans = KMeans(n_clusters=self.n_clusters, random_state=0)\n",
        "        cluster_labels = kmeans.fit_predict(X, y)\n",
        "        majority_cluster = np.argmax(np.bincount(cluster_labels))\n",
        "        majority_samples = cluster_labels == majority_cluster\n",
        "        X_majority = X[majority_samples]\n",
        "        y_majority = y[majority_samples]\n",
        "        X_resampled, y_resampled = self.cluster_centroids.fit_resample(X, y)\n",
        "        X_resampled = np.concatenate([X_resampled, X_majority])\n",
        "        y_resampled = np.concatenate([y_resampled, y_majority])\n",
        "        return X_resampled, y_resampled\n",
        "\n",
        "# Perform SCUT pada data training untuk menyeimbangkan kelas\n",
        "scut = SCUT(n_clusters=2)\n",
        "x_train_res, y_train_res = scut.fit_resample(x_train_imputed.values, y_train)\n",
        "\n",
        "# Membuat DataFrame dari hasil SCUT pada data training\n",
        "df_train_scut = pd.DataFrame(x_train_res, columns=x_train_imputed.columns)\n",
        "df_train_scut['class'] = y_train_res\n",
        "df_train_scut.to_excel('hasil_scut_train.xlsx', index=False)\n",
        "\n",
        "# Perform SCUT pada data testing untuk menyeimbangkan kelas\n",
        "x_test_res, y_test_res = scut.fit_resample(x_test_imputed.values, y_test)\n",
        "df_test_scut = pd.DataFrame(x_test_res, columns=x_test_imputed.columns)\n",
        "df_test_scut['class'] = y_test_res\n",
        "df_test_scut.to_excel('hasil_scut_test.xlsx', index=False)\n",
        "\n",
        "# Memanggil fungsi klasifikasi Naive Bayes\n",
        "rf = RandomForestClassifier(random_state=0, \n",
        "                            class_weight='balanced',\n",
        "                            n_estimators=100)\n",
        "\n",
        "# Memasukkan data training pada fungsi klasifikasi naive bayes\n",
        "y_pred = rf.fit(x_train_res, y_train_res).predict(x_test_res)\n",
        "\n",
        "# Menampilkan nilai akurasi dari klasifikasi Naive Bayes\n",
        "print('Nilai akurasi komposisi 70:30 adalah {:.2f}%'.format(metrics.accuracy_score(y_test_res, y_pred)*100))"
      ],
      "metadata": {
        "colab": {
          "base_uri": "https://localhost:8080/"
        },
        "outputId": "b487a7f4-07e4-4a90-f883-585d94e75f2f",
        "id": "4QE68Acqf9tK"
      },
      "execution_count": 33,
      "outputs": [
        {
          "output_type": "stream",
          "name": "stdout",
          "text": [
            "Nilai akurasi komposisi 70:30 adalah 80.00%\n"
          ]
        }
      ]
    },
    {
      "cell_type": "markdown",
      "source": [
        "## Kode 4 RF + PPCA + SMOTENC + Standard Scaler"
      ],
      "metadata": {
        "id": "DqxiXAfOf9tN"
      }
    },
    {
      "cell_type": "code",
      "source": [
        "# Load dataset\n",
        "dataset = pd.read_excel('dataset_hepatitis.xlsx')\n",
        "\n",
        "# Mengganti nilai ? dengan Nan\n",
        "df = dataset.replace('?', np.nan)\n",
        "\n",
        "# Split dataset into input and output variables\n",
        "x = df.drop(['class'], axis=1)\n",
        "y = df['class']\n",
        "\n",
        "# Import train_test_split func\n",
        "x_train, x_test, y_train, y_test = train_test_split(x, y, stratify=y, test_size=0.3, random_state=42)\n",
        "\n",
        "# Menyatakan data kategorik dan numerik\n",
        "cat_cols = ['sex', 'steroid', 'antivirals', 'fatigue', 'malaise', 'anorexia',\n",
        "            'liver_big', 'liver_firm', 'spleen_palpable', 'spiders', 'ascites',\n",
        "            'varices', 'histology']\n",
        "\n",
        "num_cols = ['age', 'bilirubin', 'alk_phosphate', 'sgot', 'albumin', 'protime']\n",
        "\n",
        "# Mengisi nilai NaN dengan mode pada kolom kategorik pada data training\n",
        "for col in cat_cols:\n",
        "    x_train[col].fillna(x_train[col].mode()[0], inplace=True)\n",
        "\n",
        "# Mengisi nilai NaN dengan mean pada kolom numerik pada data training\n",
        "for col in num_cols:\n",
        "    x_train[col].fillna(x_train[col].mean(), inplace=True)\n",
        "\n",
        "# Normalisasi dengan Standard Scaler pada data training\n",
        "scaler = StandardScaler()\n",
        "x_train_sc = pd.DataFrame(scaler.fit_transform(x_train), columns=x_train.columns)\n",
        "\n",
        "# Mengisi nilai NaN dengan mode pada kolom kategorik pada data testing\n",
        "for col in cat_cols:\n",
        "    x_test[col].fillna(x_train[col].mode()[0], inplace=True)\n",
        "\n",
        "# Mengisi nilai NaN dengan mean pada kolom numerik pada data testing\n",
        "for col in num_cols:\n",
        "    if col in x_test.columns:\n",
        "        x_test[col].fillna(x_train[col].mean(), inplace=True)\n",
        "\n",
        "# Normalisasi dengan Standard Scaler pada data testing\n",
        "x_test_sc = pd.DataFrame(scaler.transform(x_test), columns=x_test.columns)\n",
        "\n",
        "# Membuat DataFrame dari hasil Standard Scaler pada data training\n",
        "df_train_sc = pd.concat([x_train_sc, y_train], axis=1)\n",
        "df_train_sc.to_excel('hasil_scaling_train.xlsx', index=False)\n",
        "\n",
        "# Membuat DataFrame dari hasil Standard Scaler pada data testing\n",
        "df_test_sc = pd.concat([x_test_sc, y_test], axis=1)\n",
        "df_test_sc.to_excel('hasil_scaling_test.xlsx', index=False)\n",
        "\n",
        "# Imputasi PPCA pada data training\n",
        "imputer = PPCA()\n",
        "imputer.fit(x_train_sc.values)\n",
        "x_train_imputed = imputer.transform(x_train_sc.values)\n",
        "x_train_imputed = pd.DataFrame(x_train_imputed, columns=x_train_sc.columns)\n",
        "\n",
        "# Membuat DataFrame dari hasil imputasi PPCA pada data training\n",
        "df_train_imputed = pd.concat([x_train_imputed, y_train], axis=1)\n",
        "df_train_imputed.to_excel('hasil_ppca_train.xlsx', index=False)\n",
        "\n",
        "# Imputasi PPCA pada data testing\n",
        "x_test_imputed = imputer.transform(x_test_sc.values)\n",
        "x_test_imputed = pd.DataFrame(x_test_imputed, columns=x_test_sc.columns)\n",
        "\n",
        "# Membuat DataFrame dari hasil imputasi PPCA pada data testing\n",
        "df_test_imputed = pd.concat([x_test_imputed, y_test], axis=1)\n",
        "df_test_imputed.to_excel('hasil_ppca_test.xlsx', index=False)\n",
        "\n",
        "from imblearn.over_sampling import SMOTENC\n",
        "# Perform SMOTEN to balance classes\n",
        "sm = SMOTENC(categorical_features = [1, 2, 3, 4, 5, 6, 7, 8, 9, 10, 11, 12, 18],\n",
        "             k_neighbors = 2,\n",
        "             random_state = 0,\n",
        "             sampling_strategy = 'minority')\n",
        "x_train_res, y_train_res = sm.fit_resample(x_train_imputed.values, y_train)\n",
        "\n",
        "# Membuat DataFrame dari hasil SMOTENC pada data training\n",
        "df_train_sm = pd.DataFrame(x_train_res, columns=x_train_imputed.columns)\n",
        "df_train_sm['class'] = y_train_res\n",
        "df_train_sm.to_excel('hasil_smotenc_train.xlsx', index=False)\n",
        "\n",
        "# Perform SMOTENC pada data testing untuk menyeimbangkan kelas\n",
        "x_test_res, y_test_res = sm.fit_resample(x_test_imputed.values, y_test)\n",
        "df_test_sm = pd.DataFrame(x_test_res, columns=x_test_imputed.columns)\n",
        "df_test_sm['class'] = y_test_res\n",
        "df_test_sm.to_excel('hasil_smotenc_test.xlsx', index=False)\n",
        "\n",
        "# Memanggil fungsi klasifikasi Naive Bayes\n",
        "rf = RandomForestClassifier(random_state=0, \n",
        "                            class_weight='balanced',\n",
        "                            n_estimators=100)\n",
        "\n",
        "# Memasukkan data training pada fungsi klasifikasi naive bayes\n",
        "y_pred = rf.fit(x_train_res, y_train_res).predict(x_test_res)\n",
        "\n",
        "# Menampilkan nilai akurasi dari klasifikasi Naive Bayes\n",
        "print('Nilai akurasi komposisi 70:30 adalah {:.2f}%'.format(metrics.accuracy_score(y_test_res, y_pred)*100))"
      ],
      "metadata": {
        "colab": {
          "base_uri": "https://localhost:8080/"
        },
        "outputId": "d3c0ecb3-24e4-4e71-a2d1-e41f8d5aa067",
        "id": "6e1M5DQkf9tO"
      },
      "execution_count": 34,
      "outputs": [
        {
          "output_type": "stream",
          "name": "stdout",
          "text": [
            "Nilai akurasi komposisi 70:30 adalah 82.43%\n"
          ]
        }
      ]
    }
  ]
}